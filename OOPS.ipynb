{
  "nbformat": 4,
  "nbformat_minor": 0,
  "metadata": {
    "colab": {
      "provenance": [],
      "authorship_tag": "ABX9TyM3WsfI7esAsdy1YXsE0KA9",
      "include_colab_link": true
    },
    "kernelspec": {
      "name": "python3",
      "display_name": "Python 3"
    },
    "language_info": {
      "name": "python"
    }
  },
  "cells": [
    {
      "cell_type": "markdown",
      "metadata": {
        "id": "view-in-github",
        "colab_type": "text"
      },
      "source": [
        "<a href=\"https://colab.research.google.com/github/pranjal-tiwarigithub/CampusX/blob/main/OOPS.ipynb\" target=\"_parent\"><img src=\"https://colab.research.google.com/assets/colab-badge.svg\" alt=\"Open In Colab\"/></a>"
      ]
    },
    {
      "cell_type": "code",
      "execution_count": null,
      "metadata": {
        "id": "smcHSAoz1w2D"
      },
      "outputs": [],
      "source": [
        "class Atm:\n",
        "\n",
        "  def __init__(self):\n",
        "    self.pin = ''\n",
        "    self.balance = 0 \n",
        "\n",
        "    print(id(self))\n",
        "\n",
        "    self.menu()\n",
        "  \n",
        "  def menu(self):\n",
        "    user_input = input(\"\"\"\n",
        "    \n",
        "    Choose one option\n",
        "    1. Set PIN\n",
        "    2. Deposit \n",
        "    3. Withdraw\n",
        "    4. Check Balance\n",
        "    5. Exit\n",
        "    \n",
        "    \"\"\")\n",
        "\n",
        "    if user_input == '1':\n",
        "      self.set_pin()\n",
        "    elif user_input == '2':\n",
        "      self.deposit()\n",
        "    elif user_input == '3':\n",
        "      self.Withdraw()\n",
        "    elif user_input == '4':\n",
        "      self.check_balance()\n",
        "    else:\n",
        "      print(\"exit\")\n",
        "    \n",
        "\n",
        "  def set_pin(self):\n",
        "    pin_user = input(\" Enter Your Pin \")\n",
        "    self.pin = pin_user\n",
        "    print(\"Pin Set Successfully\")\n",
        "    self.menu()\n",
        "\n",
        "  def check_pin(self):\n",
        "    temp = input(\" Enter Your Pin \")\n",
        "    if(self.pin == temp):\n",
        "      print(\"Valid PIN\")\n",
        "      return True\n",
        "    else:\n",
        "      print(\"Invalid PIN\")\n",
        "      return False\n",
        "\n",
        "  def deposit(self):\n",
        "    \n",
        "    if (self.check_pin()):\n",
        "      deposit_val = int(input(\"how much do you want to deposit\"))\n",
        "      self.balance = self.balance + deposit_val\n",
        "      print(\"Amount Deposited successfully\")\n",
        "\n",
        "    self.menu()\n",
        "\n",
        "  def Withdraw(self):\n",
        "\n",
        "    if (self.check_pin()):\n",
        "      withdrawal_Val = int(input(\"how much do you want to withdraw\"))\n",
        "      if(self.balance >= withdrawal_Val):\n",
        "        self.balance = self.balance - withdrawal_Val\n",
        "        print(\"Amount withdrawn successfully\")\n",
        "      else:\n",
        "        print(\"Insufficient Balance\")\n",
        "      \n",
        "    self.menu()\n",
        "\n",
        "\n",
        "\n",
        "  def check_balance(self):\n",
        "    if(self.check_pin()):\n",
        "      print(f\"The balance is {self.balance} \")\n",
        "    \n",
        "    self.menu()\n",
        "\n"
      ]
    },
    {
      "cell_type": "markdown",
      "source": [
        "methods are functions defined under class , self carries address of object , whenever you call a method object address as self is sent as default , methods can`t access each other directly eg menu method inside __init__ , thats done through objects as only objects can access methods. \n",
        "\n",
        "__init__ is a magic function in python we can`t defne it , a consuctor \n"
      ],
      "metadata": {
        "id": "GR_27J8SBgAb"
      }
    },
    {
      "cell_type": "code",
      "source": [
        "sbi = Atm()"
      ],
      "metadata": {
        "colab": {
          "base_uri": "https://localhost:8080/"
        },
        "id": "3zXM77uD5soQ",
        "outputId": "b7f865da-3ed3-4a6b-bb4d-093423029159"
      },
      "execution_count": null,
      "outputs": [
        {
          "output_type": "stream",
          "name": "stdout",
          "text": [
            "140585518501312\n",
            "\n",
            "    \n",
            "    Choose one option\n",
            "    1. Set PIN\n",
            "    2. Deposit \n",
            "    3. Withdraw\n",
            "    4. Check Balance\n",
            "    5. Exit\n",
            "    \n",
            "    5\n",
            "exit\n"
          ]
        }
      ]
    },
    {
      "cell_type": "code",
      "source": [
        "id(sbi)"
      ],
      "metadata": {
        "colab": {
          "base_uri": "https://localhost:8080/"
        },
        "id": "Wb34JoR8_5K-",
        "outputId": "a5308a20-1199-41d8-97ab-77a255e33dab"
      },
      "execution_count": null,
      "outputs": [
        {
          "output_type": "execute_result",
          "data": {
            "text/plain": [
              "140585518501312"
            ]
          },
          "metadata": {},
          "execution_count": 5
        }
      ]
    },
    {
      "cell_type": "markdown",
      "source": [
        "only objects can access data , method of class \n",
        "\n",
        "methods of one class can access other methods or data only through object of that class ( self)"
      ],
      "metadata": {
        "id": "xXPy8cMZcnS3"
      }
    },
    {
      "cell_type": "markdown",
      "source": [
        "### Fraction Data class "
      ],
      "metadata": {
        "id": "4w0LPLxwdA5A"
      }
    },
    {
      "cell_type": "code",
      "source": [
        "class Fraction:\n",
        "\n",
        "  def __init__(self , n, d):\n",
        "    self.num = n\n",
        "    self.den = d\n",
        "  \n",
        "  def __str__(self):\n",
        "    return \"hello\"\n"
      ],
      "metadata": {
        "id": "lKyxe7L-_8Mx"
      },
      "execution_count": null,
      "outputs": []
    },
    {
      "cell_type": "code",
      "source": [
        "x = Fraction(2,3)"
      ],
      "metadata": {
        "id": "H1IPsxaydb_e"
      },
      "execution_count": null,
      "outputs": []
    },
    {
      "cell_type": "code",
      "source": [
        "type(x)"
      ],
      "metadata": {
        "colab": {
          "base_uri": "https://localhost:8080/"
        },
        "id": "q7nJwKwOdh1c",
        "outputId": "8ba3f9dc-cf5f-49d5-eaeb-d04cbc0c1505"
      },
      "execution_count": null,
      "outputs": [
        {
          "output_type": "execute_result",
          "data": {
            "text/plain": [
              "__main__.Fraction"
            ]
          },
          "metadata": {},
          "execution_count": 12
        }
      ]
    },
    {
      "cell_type": "code",
      "source": [
        "print(x)"
      ],
      "metadata": {
        "colab": {
          "base_uri": "https://localhost:8080/"
        },
        "id": "HV4ezMUkdkpI",
        "outputId": "d134caf8-e418-41c0-9e24-7f57b84ce0d5"
      },
      "execution_count": null,
      "outputs": [
        {
          "output_type": "stream",
          "name": "stdout",
          "text": [
            "hello\n"
          ]
        }
      ]
    },
    {
      "cell_type": "code",
      "source": [
        "### magic methods are called automatically when certain situation is met \n",
        "##3 __str__  is called automatically whenever we call print function "
      ],
      "metadata": {
        "id": "O1b1mS8MdqgB"
      },
      "execution_count": null,
      "outputs": []
    },
    {
      "cell_type": "code",
      "source": [
        "class Fraction:\n",
        "\n",
        "  def __init__(self , n, d):\n",
        "    self.num = n\n",
        "    self.den = d\n",
        "  \n",
        "  def __str__(self):\n",
        "    return \"{}/{}\".format(self.num , self.den)"
      ],
      "metadata": {
        "id": "RIOK1g_aeJpi"
      },
      "execution_count": null,
      "outputs": []
    },
    {
      "cell_type": "code",
      "source": [
        "x = Fraction(2,3)"
      ],
      "metadata": {
        "id": "2V6IDs0TeMpm"
      },
      "execution_count": null,
      "outputs": []
    },
    {
      "cell_type": "code",
      "source": [
        "type(x)"
      ],
      "metadata": {
        "colab": {
          "base_uri": "https://localhost:8080/"
        },
        "id": "OUTufVEDeNCY",
        "outputId": "8a2fe0d7-3521-4ef1-f905-ef5aa486885f"
      },
      "execution_count": null,
      "outputs": [
        {
          "output_type": "execute_result",
          "data": {
            "text/plain": [
              "__main__.Fraction"
            ]
          },
          "metadata": {},
          "execution_count": 21
        }
      ]
    },
    {
      "cell_type": "code",
      "source": [
        "print(x)"
      ],
      "metadata": {
        "colab": {
          "base_uri": "https://localhost:8080/"
        },
        "id": "TZNIY3c_eOc9",
        "outputId": "c741dd7b-7cea-4bdf-e6e6-27c748bfd35e"
      },
      "execution_count": null,
      "outputs": [
        {
          "output_type": "stream",
          "name": "stdout",
          "text": [
            "2/3\n"
          ]
        }
      ]
    },
    {
      "cell_type": "code",
      "source": [
        "y = Fraction(5 ,6)"
      ],
      "metadata": {
        "id": "X0JlIqzLeQCD"
      },
      "execution_count": null,
      "outputs": []
    },
    {
      "cell_type": "code",
      "source": [
        "print(y)"
      ],
      "metadata": {
        "colab": {
          "base_uri": "https://localhost:8080/"
        },
        "id": "sjjchNXjeomQ",
        "outputId": "af22ede5-6d42-421d-e1f3-faebd14202ae"
      },
      "execution_count": null,
      "outputs": [
        {
          "output_type": "stream",
          "name": "stdout",
          "text": [
            "5/6\n"
          ]
        }
      ]
    },
    {
      "cell_type": "code",
      "source": [
        "#print(x+y)  #  unsupported operand type(s) for +: 'Fraction' and 'Fraction'"
      ],
      "metadata": {
        "id": "LkJJt0zAeqTR"
      },
      "execution_count": null,
      "outputs": []
    },
    {
      "cell_type": "code",
      "source": [
        "## magic method \n",
        "## Wherenver we use + we use __add__ method"
      ],
      "metadata": {
        "id": "WPUBHAKVevfe"
      },
      "execution_count": null,
      "outputs": []
    },
    {
      "cell_type": "code",
      "source": [
        "class Fraction:\n",
        "\n",
        "  def __init__(self , n, d):\n",
        "    self.num = n\n",
        "    self.den = d\n",
        "  \n",
        "  def __str__(self):\n",
        "    return \"{}/{}\".format(self.num , self.den)\n",
        "\n",
        "  def __add__(self , other):\n",
        "\n",
        "    temp = Fraction(0,0)\n",
        "    temp.num = self.num * other.den + other.num * self.den\n",
        "    temp.den = self.den * other.den \n",
        "    return temp\n",
        "\n",
        "  def __sub__(self , other):\n",
        "\n",
        "    temp = Fraction(0,0)\n",
        "    temp.num = self.num * other.den - self.den * other.num\n",
        "    temp.den = self.den * other.den \n",
        "    return temp \n",
        "\n",
        "  def __mul__(self , other):\n",
        "    temp = Fraction(0,0)\n",
        "    temp.num = self.num * other.num\n",
        "    temp.den = self.den * other.den \n",
        "    return temp \n",
        "\n",
        "  def __truediv__(self , other):\n",
        "    temp = Fraction(0,0)\n",
        "    temp.num = self.num * other.den\n",
        "    temp.den = self.den * other.num \n",
        "    return temp "
      ],
      "metadata": {
        "id": "OIKHwDcee245"
      },
      "execution_count": null,
      "outputs": []
    },
    {
      "cell_type": "code",
      "source": [
        "x = Fraction(2,3)\n",
        "y = Fraction(3,4)\n",
        "print(x+y)"
      ],
      "metadata": {
        "colab": {
          "base_uri": "https://localhost:8080/"
        },
        "id": "2D4-avAggID8",
        "outputId": "40229edf-ec91-43b7-fa7d-d4ef04edf765"
      },
      "execution_count": null,
      "outputs": [
        {
          "output_type": "stream",
          "name": "stdout",
          "text": [
            "17/12\n"
          ]
        }
      ]
    },
    {
      "cell_type": "code",
      "source": [
        "print(x-y)\n",
        "print(x*y)\n",
        "print(x/y)"
      ],
      "metadata": {
        "colab": {
          "base_uri": "https://localhost:8080/"
        },
        "id": "iGwj_Ps3hyik",
        "outputId": "0eea7005-6328-4512-8b5c-97950505c88a"
      },
      "execution_count": null,
      "outputs": [
        {
          "output_type": "stream",
          "name": "stdout",
          "text": [
            "-1/12\n",
            "6/12\n",
            "8/9\n"
          ]
        }
      ]
    },
    {
      "cell_type": "code",
      "source": [
        "### instance variable  - variables inside constructor , variables whose value diffrent for each object "
      ],
      "metadata": {
        "id": "Q5GtgWw1hzro"
      },
      "execution_count": null,
      "outputs": []
    },
    {
      "cell_type": "markdown",
      "source": [
        "## encapsulation"
      ],
      "metadata": {
        "id": "QgTccj0lAWdB"
      }
    },
    {
      "cell_type": "code",
      "source": [
        "sbi = Atm()"
      ],
      "metadata": {
        "colab": {
          "base_uri": "https://localhost:8080/"
        },
        "id": "kN8kaeM6AG9j",
        "outputId": "3a8b4f7a-f005-4f6e-c984-59655e265e48"
      },
      "execution_count": null,
      "outputs": [
        {
          "output_type": "stream",
          "name": "stdout",
          "text": [
            "140316470961600\n",
            "\n",
            "    \n",
            "    Choose one option\n",
            "    1. Set PIN\n",
            "    2. Deposit \n",
            "    3. Withdraw\n",
            "    4. Check Balance\n",
            "    5. Exit\n",
            "    \n",
            "    5\n",
            "exit\n"
          ]
        }
      ]
    },
    {
      "cell_type": "code",
      "source": [
        "sbi.balance"
      ],
      "metadata": {
        "colab": {
          "base_uri": "https://localhost:8080/"
        },
        "id": "ePoIZbs6Ad_X",
        "outputId": "c6cf3093-63c0-4bea-c99b-26ac87852117"
      },
      "execution_count": null,
      "outputs": [
        {
          "output_type": "execute_result",
          "data": {
            "text/plain": [
              "0"
            ]
          },
          "metadata": {},
          "execution_count": 9
        }
      ]
    },
    {
      "cell_type": "code",
      "source": [
        "class Atm:\n",
        "\n",
        "  def __init__(self):\n",
        "    self.__pin = ''\n",
        "    self.__balance = 0 \n",
        "\n",
        "    print(id(self))\n",
        "\n",
        "    self.menu()\n",
        "  \n",
        "  def menu(self):\n",
        "    user_input = input(\"\"\"\n",
        "    \n",
        "    Choose one option\n",
        "    1. Set PIN\n",
        "    2. Deposit \n",
        "    3. Withdraw\n",
        "    4. Check Balance\n",
        "    5. Exit\n",
        "    \n",
        "    \"\"\")\n",
        "\n",
        "    if user_input == '1':\n",
        "      self.set_pin()\n",
        "    elif user_input == '2':\n",
        "      self.deposit()\n",
        "    elif user_input == '3':\n",
        "      self.Withdraw()\n",
        "    elif user_input == '4':\n",
        "      self.check_balance()\n",
        "    else:\n",
        "      print(\"exit\")\n",
        "    \n",
        "\n",
        "  def set_pin(self):\n",
        "    pin_user = input(\" Enter Your Pin \")\n",
        "    self.__pin = pin_user\n",
        "    print(\"Pin Set Successfully\")\n",
        "    self.menu()\n",
        "\n",
        "  def check_pin(self):\n",
        "    temp = input(\" Enter Your Pin \")\n",
        "    if(self.__pin == temp):\n",
        "      print(\"Valid PIN\")\n",
        "      return True\n",
        "    else:\n",
        "      print(\"Invalid PIN\")\n",
        "      return False\n",
        "\n",
        "  def deposit(self):\n",
        "    \n",
        "    if (self.check_pin()):\n",
        "      deposit_val = int(input(\"how much do you want to deposit\"))\n",
        "      self.__balance = self.__balance + deposit_val\n",
        "      print(\"Amount Deposited successfully\")\n",
        "\n",
        "    self.menu()\n",
        "\n",
        "  def Withdraw(self):\n",
        "\n",
        "    if (self.check_pin()):\n",
        "      withdrawal_Val = int(input(\"how much do you want to withdraw\"))\n",
        "      if(self.__balance >= withdrawal_Val):\n",
        "        self.__balance = self.__balance - withdrawal_Val\n",
        "        print(\"Amount withdrawn successfully\")\n",
        "      else:\n",
        "        print(\"Insufficient Balance\")\n",
        "      \n",
        "    self.menu()\n",
        "\n",
        "\n",
        "\n",
        "  def check_balance(self):\n",
        "    if(self.check_pin()):\n",
        "      print(f\"The balance is {self.__balance} \")\n",
        "    \n",
        "    self.menu()\n",
        "\n"
      ],
      "metadata": {
        "id": "EG-ABTtQd1Ud"
      },
      "execution_count": null,
      "outputs": []
    },
    {
      "cell_type": "code",
      "source": [
        "sbi = Atm()"
      ],
      "metadata": {
        "colab": {
          "base_uri": "https://localhost:8080/"
        },
        "id": "Nfbcdrt1eM06",
        "outputId": "491d5df5-56ca-4561-a8a0-52d54ca2b22e"
      },
      "execution_count": null,
      "outputs": [
        {
          "output_type": "stream",
          "name": "stdout",
          "text": [
            "140316470958144\n",
            "\n",
            "    \n",
            "    Choose one option\n",
            "    1. Set PIN\n",
            "    2. Deposit \n",
            "    3. Withdraw\n",
            "    4. Check Balance\n",
            "    5. Exit\n",
            "    \n",
            "    5\n",
            "exit\n"
          ]
        }
      ]
    },
    {
      "cell_type": "code",
      "source": [
        "#sbi.balance  # 'Atm' object has no attribute 'balance'"
      ],
      "metadata": {
        "id": "AkQ8U0F0eNUV"
      },
      "execution_count": null,
      "outputs": []
    },
    {
      "cell_type": "markdown",
      "source": [
        "python internally replaces __pin as _Atm__pin and hides it \n",
        "\n",
        "\n",
        "\n",
        "![image.png](data:image/png;base64,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)"
      ],
      "metadata": {
        "id": "BzMS1sSDegC-"
      }
    },
    {
      "cell_type": "markdown",
      "source": [
        "![image.png](data:image/png;base64,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)"
      ],
      "metadata": {
        "id": "1BR7mi8beznL"
      }
    },
    {
      "cell_type": "code",
      "source": [
        "sbi.__balance = \"uerhf\""
      ],
      "metadata": {
        "id": "td-Sq6aVexwM"
      },
      "execution_count": null,
      "outputs": []
    },
    {
      "cell_type": "code",
      "source": [
        "sbi.check_balance()"
      ],
      "metadata": {
        "colab": {
          "base_uri": "https://localhost:8080/"
        },
        "id": "X1oq3yRbfKUP",
        "outputId": "50b048d4-5d61-4fbf-fd9f-523acbe672b3"
      },
      "execution_count": null,
      "outputs": [
        {
          "output_type": "stream",
          "name": "stdout",
          "text": [
            " Enter Your Pin \n",
            "Valid PIN\n",
            "The balance is 0 \n",
            "\n",
            "    \n",
            "    Choose one option\n",
            "    1. Set PIN\n",
            "    2. Deposit \n",
            "    3. Withdraw\n",
            "    4. Check Balance\n",
            "    5. Exit\n",
            "    \n",
            "    5\n",
            "exit\n"
          ]
        }
      ]
    },
    {
      "cell_type": "code",
      "source": [
        "# sbi.__balance = \"uerhf\" this gets stored in a new variable of class that is __balance . but our method is using a variable which is seen as _Atm__balance by the \n",
        "# the puthon interpreter . thus this variable _Atm__balance remainded untouched "
      ],
      "metadata": {
        "id": "9BZNrl56fPkT"
      },
      "execution_count": null,
      "outputs": []
    },
    {
      "cell_type": "code",
      "source": [
        "sbi._Atm__balance  # this is a threat as it can be exposed and changes \n"
      ],
      "metadata": {
        "colab": {
          "base_uri": "https://localhost:8080/"
        },
        "id": "JhYilCkaf1hr",
        "outputId": "1054a174-5ed2-4ddd-9b58-7acd6fe33f68"
      },
      "execution_count": null,
      "outputs": [
        {
          "output_type": "execute_result",
          "data": {
            "text/plain": [
              "0"
            ]
          },
          "metadata": {},
          "execution_count": 27
        }
      ]
    },
    {
      "cell_type": "code",
      "source": [
        "## nothing in python is truly private"
      ],
      "metadata": {
        "id": "iA6xs4TWgCEx"
      },
      "execution_count": null,
      "outputs": []
    },
    {
      "cell_type": "code",
      "source": [
        "### getter and setter so that we can access and change private variables "
      ],
      "metadata": {
        "id": "uibM6cjagLeJ"
      },
      "execution_count": null,
      "outputs": []
    },
    {
      "cell_type": "code",
      "source": [
        "class Atm:\n",
        "\n",
        "  def __init__(self):\n",
        "    self.__pin = ''\n",
        "    self.__balance = 0 \n",
        "\n",
        "  def get_pin(self):\n",
        "    print(self.__pin)\n",
        "  \n",
        "  def set_pin(self , new_pin):\n",
        "    if (type(new_pin) == str):\n",
        "      self.__pin = new_pin                 ## risk of putting a float ,  use type check \n",
        "      print(\"Pin chnages\")\n",
        "    else:\n",
        "      print(\"Not allowed\")\n",
        "\n",
        "    print(id(self))\n",
        "\n",
        "    self.menu()\n",
        "  \n",
        "  def menu(self):\n",
        "    user_input = input(\"\"\"\n",
        "    \n",
        "    Choose one option\n",
        "    1. Set PIN\n",
        "    2. Deposit \n",
        "    3. Withdraw\n",
        "    4. Check Balance\n",
        "    5. Exit\n",
        "    \n",
        "    \"\"\")\n",
        "\n",
        "    if user_input == '1':\n",
        "      self.set_pin()\n",
        "    elif user_input == '2':\n",
        "      self.deposit()\n",
        "    elif user_input == '3':\n",
        "      self.Withdraw()\n",
        "    elif user_input == '4':\n",
        "      self.check_balance()\n",
        "    else:\n",
        "      print(\"exit\")\n",
        "    \n",
        "\n",
        "  def create_pin(self):\n",
        "    pin_user = input(\" Enter Your Pin \")\n",
        "    self.__pin = pin_user\n",
        "    print(\"Pin Set Successfully\")\n",
        "    self.menu()\n",
        "\n",
        "\n",
        "  def check_pin(self):\n",
        "    temp = input(\" Enter Your Pin \")\n",
        "    if(self.__pin == temp):\n",
        "      print(\"Valid PIN\")\n",
        "      return True\n",
        "    else:\n",
        "      print(\"Invalid PIN\")\n",
        "      return False\n",
        "\n",
        "  def deposit(self):\n",
        "    \n",
        "    if (self.check_pin()):\n",
        "      deposit_val = int(input(\"how much do you want to deposit\"))\n",
        "      self.__balance = self.__balance + deposit_val\n",
        "      print(\"Amount Deposited successfully\")\n",
        "\n",
        "    self.menu()\n",
        "\n",
        "  def Withdraw(self):\n",
        "\n",
        "    if (self.check_pin()):\n",
        "      withdrawal_Val = int(input(\"how much do you want to withdraw\"))\n",
        "      if(self.__balance >= withdrawal_Val):\n",
        "        self.__balance = self.__balance - withdrawal_Val\n",
        "        print(\"Amount withdrawn successfully\")\n",
        "      else:\n",
        "        print(\"Insufficient Balance\")\n",
        "      \n",
        "    self.menu()\n",
        "\n",
        "\n",
        "\n",
        "  def check_balance(self):\n",
        "    if(self.check_pin()):\n",
        "      print(f\"The balance is {self.__balance} \")\n",
        "    \n",
        "    self.menu()\n",
        "\n"
      ],
      "metadata": {
        "id": "hwgvARa4i-l4"
      },
      "execution_count": null,
      "outputs": []
    },
    {
      "cell_type": "code",
      "source": [
        "sbi = Atm()"
      ],
      "metadata": {
        "id": "hsLQt4MgkTy7"
      },
      "execution_count": null,
      "outputs": []
    },
    {
      "cell_type": "code",
      "source": [
        "sbi.set_pin(3.4)"
      ],
      "metadata": {
        "colab": {
          "base_uri": "https://localhost:8080/"
        },
        "id": "SPoE99yKkWf3",
        "outputId": "73b750a0-4022-45b0-ef7e-273e8d00a1b1"
      },
      "execution_count": null,
      "outputs": [
        {
          "output_type": "stream",
          "name": "stdout",
          "text": [
            "Not allowed\n",
            "139907694908400\n",
            "\n",
            "    \n",
            "    Choose one option\n",
            "    1. Set PIN\n",
            "    2. Deposit \n",
            "    3. Withdraw\n",
            "    4. Check Balance\n",
            "    5. Exit\n",
            "    \n",
            "    5\n",
            "exit\n"
          ]
        }
      ]
    },
    {
      "cell_type": "code",
      "source": [
        "## encapsulation -> getter and setter for each data member allowing us to access together "
      ],
      "metadata": {
        "id": "74389JbkkbH3"
      },
      "execution_count": null,
      "outputs": []
    },
    {
      "cell_type": "code",
      "source": [
        "## refrence variable"
      ],
      "metadata": {
        "id": "qQbGkVmKX0Ys"
      },
      "execution_count": null,
      "outputs": []
    },
    {
      "cell_type": "code",
      "source": [
        "sbi = Atm() ### Atm() is the object and SBI is pointer variable which is pointing to the location of object -> refrence variable"
      ],
      "metadata": {
        "id": "5CW07prlX19j"
      },
      "execution_count": null,
      "outputs": []
    },
    {
      "cell_type": "markdown",
      "source": [
        "# Customer"
      ],
      "metadata": {
        "id": "LmwJVR4WYTZb"
      }
    },
    {
      "cell_type": "code",
      "source": [
        "class customer:\n",
        "\n",
        "  def __init__(self , name , gender):\n",
        "    self.name = name\n",
        "    self.gender = gender\n",
        "\n",
        "\n",
        "\n",
        "\n"
      ],
      "metadata": {
        "id": "FtnvldV9YNjN"
      },
      "execution_count": 29,
      "outputs": []
    },
    {
      "cell_type": "code",
      "source": [
        "cust = customer(\"pranjal\" , 'Male')"
      ],
      "metadata": {
        "id": "a7Rpbo4eCxZU"
      },
      "execution_count": 30,
      "outputs": []
    },
    {
      "cell_type": "code",
      "source": [
        "print(cust.name)"
      ],
      "metadata": {
        "colab": {
          "base_uri": "https://localhost:8080/"
        },
        "id": "hNnFKJ_VC1bD",
        "outputId": "40532fa3-e620-4ab4-d8fe-7b9400c7ece0"
      },
      "execution_count": 31,
      "outputs": [
        {
          "output_type": "stream",
          "name": "stdout",
          "text": [
            "pranjal\n"
          ]
        }
      ]
    },
    {
      "cell_type": "code",
      "source": [
        "def greet(customer_arg):\n",
        "  if customer_arg.gender == \"Male\":\n",
        "    print(\"Hello\" , customer_arg.name , \"sir\")\n",
        "  else:\n",
        "    print(\"Hello\" , customer_arg.name , \"Ma'am\")"
      ],
      "metadata": {
        "id": "6mNOeD8qYZIZ"
      },
      "execution_count": 32,
      "outputs": []
    },
    {
      "cell_type": "code",
      "source": [
        "greet(cust)  # function can be given even an object as argument "
      ],
      "metadata": {
        "colab": {
          "base_uri": "https://localhost:8080/"
        },
        "id": "n1Njn2ImC4Ke",
        "outputId": "d105f4b3-91c1-49ce-b6e9-51a66875eee6"
      },
      "execution_count": 33,
      "outputs": [
        {
          "output_type": "stream",
          "name": "stdout",
          "text": [
            "Hello pranjal sir\n"
          ]
        }
      ]
    },
    {
      "cell_type": "code",
      "source": [
        "def greet2(customer_arg):\n",
        "  if customer_arg.gender == \"Male\":\n",
        "    print(\"Hello\" , customer_arg.name , \"sir\")\n",
        "  else:\n",
        "    print(\"Hello\" , customer_arg.name , \"Ma'am\")\n",
        "\n",
        "  cust2 = customer(\"pranjal\" , \"Female\")\n",
        "  return cust2 ## return an object \n"
      ],
      "metadata": {
        "id": "rimeTSt0YsWY"
      },
      "execution_count": 34,
      "outputs": []
    },
    {
      "cell_type": "code",
      "source": [
        "new_cust = greet2(cust)"
      ],
      "metadata": {
        "colab": {
          "base_uri": "https://localhost:8080/"
        },
        "id": "WP2-8dt5Y7OM",
        "outputId": "9e5a4bf5-5aad-4e4f-8b7b-6870208dcf15"
      },
      "execution_count": 35,
      "outputs": [
        {
          "output_type": "stream",
          "name": "stdout",
          "text": [
            "Hello pranjal sir\n"
          ]
        }
      ]
    },
    {
      "cell_type": "code",
      "source": [
        "new_cust.gender"
      ],
      "metadata": {
        "colab": {
          "base_uri": "https://localhost:8080/",
          "height": 36
        },
        "id": "yNriO1HuY_Bj",
        "outputId": "7a92643d-c02f-46da-faf1-7e83b64252de"
      },
      "execution_count": 37,
      "outputs": [
        {
          "output_type": "execute_result",
          "data": {
            "text/plain": [
              "'Female'"
            ],
            "application/vnd.google.colaboratory.intrinsic+json": {
              "type": "string"
            }
          },
          "metadata": {},
          "execution_count": 37
        }
      ]
    },
    {
      "cell_type": "code",
      "source": [
        "### pass by reference "
      ],
      "metadata": {
        "id": "KPDiuzDOZ0SO"
      },
      "execution_count": 38,
      "outputs": []
    },
    {
      "cell_type": "code",
      "source": [
        "class customer:\n",
        "\n",
        "  def __init__(self , name):\n",
        "    self.name = name\n"
      ],
      "metadata": {
        "id": "G3NmgAbFbXHO"
      },
      "execution_count": 45,
      "outputs": []
    },
    {
      "cell_type": "code",
      "source": [
        "def greet3(customer_arg):\n",
        "  print(id(customer_arg))\n",
        "\n",
        "  ## cust and customer_arg pointing at same location \n",
        "\n"
      ],
      "metadata": {
        "id": "XkCxnKtTbQNG"
      },
      "execution_count": 52,
      "outputs": []
    },
    {
      "cell_type": "code",
      "source": [
        "cust = customer(\"pranjal\")\n",
        "print(id(cust))\n",
        "\n",
        "greet3(cust)  # send your refrence "
      ],
      "metadata": {
        "colab": {
          "base_uri": "https://localhost:8080/"
        },
        "id": "D11x7LQ6bfSa",
        "outputId": "e981769f-3cfa-4e21-8d46-826959cbb946"
      },
      "execution_count": 53,
      "outputs": [
        {
          "output_type": "stream",
          "name": "stdout",
          "text": [
            "140016541395184\n",
            "140016541395184\n"
          ]
        }
      ]
    },
    {
      "cell_type": "code",
      "source": [
        "## same adress in both cases"
      ],
      "metadata": {
        "id": "vgD_PKAvcG11"
      },
      "execution_count": 54,
      "outputs": []
    },
    {
      "cell_type": "markdown",
      "source": [
        "![image.png](data:image/png;base64,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)"
      ],
      "metadata": {
        "id": "tqYL4gv_cdXZ"
      }
    },
    {
      "cell_type": "code",
      "source": [
        "### aisaing \n",
        "\n",
        "\"\"\"\n",
        "\n",
        "a = 3\n",
        "b = a\n",
        "\n",
        "a and b pointing at same location \n",
        "\n",
        "\n",
        "\n",
        "\"\"\""
      ],
      "metadata": {
        "id": "aREZ5Wr5cKZX"
      },
      "execution_count": null,
      "outputs": []
    },
    {
      "cell_type": "code",
      "source": [
        "def greet3(customer_arg):\n",
        "  print(id(customer_arg))\n",
        "  customer_arg.name = \"Nitish\"\n",
        "  print(customer_arg.name)\n",
        "  print(id(customer_arg))  ## mutable datatypr even after editing , no need to create a copy \n"
      ],
      "metadata": {
        "id": "05ldy7Qicesu"
      },
      "execution_count": 63,
      "outputs": []
    },
    {
      "cell_type": "code",
      "source": [
        "cust = customer(\"pranjal\")\n",
        "print(id(cust))\n",
        "\n",
        "greet3(cust) "
      ],
      "metadata": {
        "colab": {
          "base_uri": "https://localhost:8080/"
        },
        "id": "RDubU4dqcoxl",
        "outputId": "e3cd62bb-0edd-4db6-e199-59f48cfd6826"
      },
      "execution_count": 64,
      "outputs": [
        {
          "output_type": "stream",
          "name": "stdout",
          "text": [
            "140016824578304\n",
            "140016824578304\n",
            "Nitish\n",
            "140016824578304\n"
          ]
        }
      ]
    },
    {
      "cell_type": "code",
      "source": [
        "cust.name  ## name has changed as value at location 140016541393984 itself has changed "
      ],
      "metadata": {
        "colab": {
          "base_uri": "https://localhost:8080/",
          "height": 36
        },
        "id": "LgNSD-yecsyU",
        "outputId": "3ed0e02c-bb33-4092-b3ed-8a8025a87bf9"
      },
      "execution_count": 61,
      "outputs": [
        {
          "output_type": "execute_result",
          "data": {
            "text/plain": [
              "'Nitish'"
            ],
            "application/vnd.google.colaboratory.intrinsic+json": {
              "type": "string"
            }
          },
          "metadata": {},
          "execution_count": 61
        }
      ]
    },
    {
      "cell_type": "code",
      "source": [
        "### chnages done to object as well , pointing to same location"
      ],
      "metadata": {
        "id": "2gGYZIuPcuy8"
      },
      "execution_count": 62,
      "outputs": []
    },
    {
      "cell_type": "code",
      "source": [
        "## class objects are also mutuable like list , dicts and sets . no need\n",
        "#3 to create its copy in order to edit \n",
        "## edit before and after change is same "
      ],
      "metadata": {
        "id": "A4KAxYA3dN1a"
      },
      "execution_count": 65,
      "outputs": []
    },
    {
      "cell_type": "code",
      "source": [
        "## use clooining to print chnages to list sent as argument and list received in function"
      ],
      "metadata": {
        "id": "7-EjivDJdrMU"
      },
      "execution_count": 66,
      "outputs": []
    },
    {
      "cell_type": "code",
      "source": [
        "def change(L):\n",
        "  print(id(L))\n",
        "  L.append(5)\n",
        "  print(id(L))\n",
        "  print(L)"
      ],
      "metadata": {
        "id": "1z8fwP_2eZZM"
      },
      "execution_count": 69,
      "outputs": []
    },
    {
      "cell_type": "code",
      "source": [
        "L1 = [1,2,3,4]\n",
        "print(id(L1))\n",
        "print(L1)\n",
        "\n",
        "\n",
        "change(L1[:])  # cloing \n",
        "\n",
        "print(L1)"
      ],
      "metadata": {
        "colab": {
          "base_uri": "https://localhost:8080/"
        },
        "id": "lK3hgxrGehbt",
        "outputId": "dcea7aa7-87c7-4ecd-de46-ee788d55e58f"
      },
      "execution_count": 70,
      "outputs": [
        {
          "output_type": "stream",
          "name": "stdout",
          "text": [
            "140016068082624\n",
            "[1, 2, 3, 4]\n",
            "140016062505024\n",
            "140016062505024\n",
            "[1, 2, 3, 4, 5]\n",
            "[1, 2, 3, 4]\n"
          ]
        }
      ]
    },
    {
      "cell_type": "code",
      "source": [],
      "metadata": {
        "id": "DlGoRXNeerii"
      },
      "execution_count": null,
      "outputs": []
    },
    {
      "cell_type": "markdown",
      "source": [
        "this isue is not with tuple as it is immuatble "
      ],
      "metadata": {
        "id": "a3mZEVHjfAPJ"
      }
    },
    {
      "cell_type": "code",
      "source": [
        "def change(L):\n",
        "  print(id(L))\n",
        "  L = L + (5,6)\n",
        "  print(id(L))\n",
        "  print(L)"
      ],
      "metadata": {
        "id": "IyM43fv8fFR8"
      },
      "execution_count": 71,
      "outputs": []
    },
    {
      "cell_type": "code",
      "source": [
        "L1 = (1,2,3,4)\n",
        "print(id(L1))\n",
        "print(L1)\n",
        "\n",
        "\n",
        "change(L1)  # cloing \n",
        "\n",
        "print(L1)"
      ],
      "metadata": {
        "colab": {
          "base_uri": "https://localhost:8080/"
        },
        "id": "4RkQTxfOfLqM",
        "outputId": "1f8ae94e-b151-473b-9b9e-62e6c8845040"
      },
      "execution_count": 73,
      "outputs": [
        {
          "output_type": "stream",
          "name": "stdout",
          "text": [
            "140016539089904\n",
            "(1, 2, 3, 4)\n",
            "140016539089904\n",
            "140016538858112\n",
            "(1, 2, 3, 4, 5, 6)\n",
            "(1, 2, 3, 4)\n"
          ]
        }
      ]
    },
    {
      "cell_type": "markdown",
      "source": [
        "sending mutable datatypes by call by reference by can lead to changes in orginal arugement . this does not happen with immutable datatypes "
      ],
      "metadata": {
        "id": "StikR_2qfTCJ"
      }
    },
    {
      "cell_type": "code",
      "source": [
        "class Customer:\n",
        "\n",
        "  def __init__(self , name , age):\n",
        "    self.name =name\n",
        "    self.age =age\n",
        "\n",
        "  def intro(self):\n",
        "    print( \"i am\" , self.name , \"and i am\" , self.age)\n"
      ],
      "metadata": {
        "id": "7EHjC95jfjaa"
      },
      "execution_count": 81,
      "outputs": []
    },
    {
      "cell_type": "code",
      "source": [
        "c1 = Customer(\"pranjal\" , 21)\n",
        "c2 = Customer(\"Ankit\" , 32)\n",
        "c3 = Customer(\"someone\" , 100)"
      ],
      "metadata": {
        "id": "08Og-N0hfx6k"
      },
      "execution_count": 85,
      "outputs": []
    },
    {
      "cell_type": "code",
      "source": [
        "L = [c1,c2,c3]"
      ],
      "metadata": {
        "id": "-r5N1D6NgARj"
      },
      "execution_count": 86,
      "outputs": []
    },
    {
      "cell_type": "code",
      "source": [
        "for i in L:\n",
        "  print(i)  ## havent implemented str function for class"
      ],
      "metadata": {
        "colab": {
          "base_uri": "https://localhost:8080/"
        },
        "id": "z2VBSYP2gCqp",
        "outputId": "57107057-3949-41d0-8759-df6fe8aaab68"
      },
      "execution_count": 87,
      "outputs": [
        {
          "output_type": "stream",
          "name": "stdout",
          "text": [
            "<__main__.Customer object at 0x7f5807aa3640>\n",
            "<__main__.Customer object at 0x7f5807aa3160>\n",
            "<__main__.Customer object at 0x7f5807aa3850>\n"
          ]
        }
      ]
    },
    {
      "cell_type": "code",
      "source": [
        "for i in L:\n",
        "  print(i.name , i.age)\n",
        "  "
      ],
      "metadata": {
        "colab": {
          "base_uri": "https://localhost:8080/"
        },
        "id": "6GprbiNxgLZy",
        "outputId": "4a93afa9-ed75-4d27-80db-6b05a6e2f1df"
      },
      "execution_count": 88,
      "outputs": [
        {
          "output_type": "stream",
          "name": "stdout",
          "text": [
            "pranjal 21\n",
            "Ankit 32\n",
            "someone 100\n"
          ]
        }
      ]
    },
    {
      "cell_type": "code",
      "source": [
        "for i in L:\n",
        "  i.intro()"
      ],
      "metadata": {
        "colab": {
          "base_uri": "https://localhost:8080/"
        },
        "id": "FEADGNU4gPeN",
        "outputId": "ce280780-581d-40d7-826f-928245b82464"
      },
      "execution_count": 89,
      "outputs": [
        {
          "output_type": "stream",
          "name": "stdout",
          "text": [
            "i am pranjal and i am 21\n",
            "i am Ankit and i am 32\n",
            "i am someone and i am 100\n"
          ]
        }
      ]
    },
    {
      "cell_type": "markdown",
      "source": [
        "## can`t run objects in sets because sets is immutable"
      ],
      "metadata": {
        "id": "jLz4G2Ungrln"
      }
    },
    {
      "cell_type": "code",
      "source": [
        "class Atm:\n",
        "\n",
        "  ## static varaibles always created outside constructor \n",
        "  ## instance variable inside class\n",
        "\n",
        "  counter = 1\n",
        "\n",
        "  def __init__(self):\n",
        "    self.__pin = ''\n",
        "    self.__balance = 0 \n",
        "    self.sno = Atm.counter  # classname.varaiblename (static varaible)\n",
        "    Atm.counter = Atm.counter + 1 ## not self as we are not access object \n",
        "\n",
        "    print(id(self))\n",
        "\n",
        "    self.menu()\n",
        "  \n",
        "  def menu(self):\n",
        "    user_input = input(\"\"\"\n",
        "    \n",
        "    Choose one option\n",
        "    1. Set PIN\n",
        "    2. Deposit \n",
        "    3. Withdraw\n",
        "    4. Check Balance\n",
        "    5. Exit\n",
        "    \n",
        "    \"\"\")\n",
        "\n",
        "    if user_input == '1':\n",
        "      self.set_pin()\n",
        "    elif user_input == '2':\n",
        "      self.deposit()\n",
        "    elif user_input == '3':\n",
        "      self.Withdraw()\n",
        "    elif user_input == '4':\n",
        "      self.check_balance()\n",
        "    else:\n",
        "      print(\"exit\")\n",
        "    \n",
        "\n",
        "  def set_pin(self):\n",
        "    pin_user = input(\" Enter Your Pin \")\n",
        "    self.__pin = pin_user\n",
        "    print(\"Pin Set Successfully\")\n",
        "    self.menu()\n",
        "\n",
        "  def check_pin(self):\n",
        "    temp = input(\" Enter Your Pin \")\n",
        "    if(self.__pin == temp):\n",
        "      print(\"Valid PIN\")\n",
        "      return True\n",
        "    else:\n",
        "      print(\"Invalid PIN\")\n",
        "      return False\n",
        "\n",
        "  def deposit(self):\n",
        "    \n",
        "    if (self.check_pin()):\n",
        "      deposit_val = int(input(\"how much do you want to deposit\"))\n",
        "      self.__balance = self.__balance + deposit_val\n",
        "      print(\"Amount Deposited successfully\")\n",
        "\n",
        "    self.menu()\n",
        "\n",
        "  def Withdraw(self):\n",
        "\n",
        "    if (self.check_pin()):\n",
        "      withdrawal_Val = int(input(\"how much do you want to withdraw\"))\n",
        "      if(self.__balance >= withdrawal_Val):\n",
        "        self.__balance = self.__balance - withdrawal_Val\n",
        "        print(\"Amount withdrawn successfully\")\n",
        "      else:\n",
        "        print(\"Insufficient Balance\")\n",
        "      \n",
        "    self.menu()\n",
        "\n",
        "\n",
        "\n",
        "  def check_balance(self):\n",
        "    if(self.check_pin()):\n",
        "      print(f\"The balance is {self.__balance} \")\n",
        "    \n",
        "    self.menu()\n",
        "\n"
      ],
      "metadata": {
        "id": "9wscphG-gydk"
      },
      "execution_count": 102,
      "outputs": []
    },
    {
      "cell_type": "code",
      "source": [
        "cust1 =Atm()"
      ],
      "metadata": {
        "colab": {
          "base_uri": "https://localhost:8080/"
        },
        "id": "L2i7O_gVhLR8",
        "outputId": "3e65f54a-261f-4ba5-e84c-b937d4f30fb1"
      },
      "execution_count": 103,
      "outputs": [
        {
          "output_type": "stream",
          "name": "stdout",
          "text": [
            "140016060991568\n",
            "\n",
            "    \n",
            "    Choose one option\n",
            "    1. Set PIN\n",
            "    2. Deposit \n",
            "    3. Withdraw\n",
            "    4. Check Balance\n",
            "    5. Exit\n",
            "    \n",
            "    5\n",
            "exit\n"
          ]
        }
      ]
    },
    {
      "cell_type": "code",
      "source": [
        "cust2 =Atm()"
      ],
      "metadata": {
        "colab": {
          "base_uri": "https://localhost:8080/"
        },
        "id": "NG6c9PDNhN_G",
        "outputId": "4696ffeb-8256-4fb5-ad39-635ba573a028"
      },
      "execution_count": 104,
      "outputs": [
        {
          "output_type": "stream",
          "name": "stdout",
          "text": [
            "140016060990944\n",
            "\n",
            "    \n",
            "    Choose one option\n",
            "    1. Set PIN\n",
            "    2. Deposit \n",
            "    3. Withdraw\n",
            "    4. Check Balance\n",
            "    5. Exit\n",
            "    \n",
            "    5\n",
            "exit\n"
          ]
        }
      ]
    },
    {
      "cell_type": "code",
      "source": [
        "cust3 = Atm()"
      ],
      "metadata": {
        "colab": {
          "base_uri": "https://localhost:8080/"
        },
        "id": "9DFY8423hVig",
        "outputId": "7d6b5a75-795d-4ff8-8f05-225b2d19b8b0"
      },
      "execution_count": 105,
      "outputs": [
        {
          "output_type": "stream",
          "name": "stdout",
          "text": [
            "140016060992240\n",
            "\n",
            "    \n",
            "    Choose one option\n",
            "    1. Set PIN\n",
            "    2. Deposit \n",
            "    3. Withdraw\n",
            "    4. Check Balance\n",
            "    5. Exit\n",
            "    \n",
            "    5\n",
            "exit\n"
          ]
        }
      ]
    },
    {
      "cell_type": "code",
      "source": [
        "### 2 types of variables "
      ],
      "metadata": {
        "id": "b-J2F59ahYWa"
      },
      "execution_count": 95,
      "outputs": []
    },
    {
      "cell_type": "markdown",
      "source": [
        "1. instance variable =  value for each object is different \n",
        "\n",
        "2. value same for all eg serial number for customer starting with counter C = 0 , first customer gets C + 1 1 , then C+ 2  = 2 , C + 3 = 3 ,  C + 4 = 4,\n",
        "\n",
        "static / class variable = varaible same for all object eh IFSC code in bank "
      ],
      "metadata": {
        "id": "lykG3PPShc6N"
      }
    },
    {
      "cell_type": "code",
      "source": [
        "print(cust1.sno)\n",
        "print(cust2.sno)\n",
        "print(cust3.sno)"
      ],
      "metadata": {
        "colab": {
          "base_uri": "https://localhost:8080/"
        },
        "id": "uoKuw4schbqJ",
        "outputId": "8cdc7be4-260c-4d81-c6d2-572b8db79b64"
      },
      "execution_count": 107,
      "outputs": [
        {
          "output_type": "stream",
          "name": "stdout",
          "text": [
            "1\n",
            "2\n",
            "3\n"
          ]
        }
      ]
    },
    {
      "cell_type": "code",
      "source": [
        "print(cust1.counter)\n",
        "print(cust2.counter)\n",
        "print(cust3.counter)\n",
        "print(Atm.counter)  ## right way with clas name\n",
        "\n",
        "# saame for all "
      ],
      "metadata": {
        "colab": {
          "base_uri": "https://localhost:8080/"
        },
        "id": "lY_OmY2Fifaj",
        "outputId": "a4c9449c-5de1-462b-933e-cafce40720b4"
      },
      "execution_count": 109,
      "outputs": [
        {
          "output_type": "stream",
          "name": "stdout",
          "text": [
            "4\n",
            "4\n",
            "4\n",
            "4\n"
          ]
        }
      ]
    },
    {
      "cell_type": "code",
      "source": [
        "## risk of Atm.counter = \"ubdshfbwe\""
      ],
      "metadata": {
        "id": "e00WbCPDjK37"
      },
      "execution_count": 110,
      "outputs": []
    },
    {
      "cell_type": "code",
      "source": [
        "## solution : use __ along with get and set method for serial number "
      ],
      "metadata": {
        "id": "dREyMsd5jWrC"
      },
      "execution_count": 114,
      "outputs": []
    },
    {
      "cell_type": "code",
      "source": [
        "class Atm:\n",
        "\n",
        "  ## static varaibles always created outside constructor \n",
        "  ## instance variable inside class\n",
        "\n",
        "  __counter = 1\n",
        "\n",
        "  def __init__(self):\n",
        "    self.__pin = ''\n",
        "    self.__balance = 0 \n",
        "    self.sno = Atm.__counter  # classname.varaiblename (static varaible)\n",
        "    Atm.__counter = Atm.__counter + 1 ## not self as we are not access object \n",
        "\n",
        "    print(id(self))\n",
        "\n",
        "    self.menu()\n",
        "\n",
        "  def get_counter(self):\n",
        "    return Atm.counter\n",
        "  \n",
        "  def set_counter(self , new_val):\n",
        "    if( type(new_val) == int):\n",
        "      Atm.counter = new_val\n",
        "    else:\n",
        "      print(\" wrong datatype\")\n",
        "\n",
        "  \n",
        "  def menu(self):\n",
        "    user_input = input(\"\"\"\n",
        "    \n",
        "    Choose one option\n",
        "    1. Set PIN\n",
        "    2. Deposit \n",
        "    3. Withdraw\n",
        "    4. Check Balance\n",
        "    5. Exit\n",
        "    \n",
        "    \"\"\")\n",
        "\n",
        "    if user_input == '1':\n",
        "      self.set_pin()\n",
        "    elif user_input == '2':\n",
        "      self.deposit()\n",
        "    elif user_input == '3':\n",
        "      self.Withdraw()\n",
        "    elif user_input == '4':\n",
        "      self.check_balance()\n",
        "    else:\n",
        "      print(\"exit\")\n",
        "    \n",
        "\n",
        "  def set_pin(self):\n",
        "    pin_user = input(\" Enter Your Pin \")\n",
        "    self.__pin = pin_user\n",
        "    print(\"Pin Set Successfully\")\n",
        "    self.menu()\n",
        "\n",
        "  def check_pin(self):\n",
        "    temp = input(\" Enter Your Pin \")\n",
        "    if(self.__pin == temp):\n",
        "      print(\"Valid PIN\")\n",
        "      return True\n",
        "    else:\n",
        "      print(\"Invalid PIN\")\n",
        "      return False\n",
        "\n",
        "  def deposit(self):\n",
        "    \n",
        "    if (self.check_pin()):\n",
        "      deposit_val = int(input(\"how much do you want to deposit\"))\n",
        "      self.__balance = self.__balance + deposit_val\n",
        "      print(\"Amount Deposited successfully\")\n",
        "\n",
        "    self.menu()\n",
        "\n",
        "  def Withdraw(self):\n",
        "\n",
        "    if (self.check_pin()):\n",
        "      withdrawal_Val = int(input(\"how much do you want to withdraw\"))\n",
        "      if(self.__balance >= withdrawal_Val):\n",
        "        self.__balance = self.__balance - withdrawal_Val\n",
        "        print(\"Amount withdrawn successfully\")\n",
        "      else:\n",
        "        print(\"Insufficient Balance\")\n",
        "      \n",
        "    self.menu()\n",
        "\n",
        "\n",
        "\n",
        "  def check_balance(self):\n",
        "    if(self.check_pin()):\n",
        "      print(f\"The balance is {self.__balance} \")\n",
        "    \n",
        "    self.menu()\n",
        "\n"
      ],
      "metadata": {
        "id": "OAyjA95tjcuP"
      },
      "execution_count": 113,
      "outputs": []
    },
    {
      "cell_type": "code",
      "source": [
        "Atm.get_counter()  ## get_counter is expecting an object "
      ],
      "metadata": {
        "colab": {
          "base_uri": "https://localhost:8080/",
          "height": 165
        },
        "id": "U2kic1vmkM9n",
        "outputId": "95b8420a-7dc6-4c83-a480-80ac8bd012a3"
      },
      "execution_count": 115,
      "outputs": [
        {
          "output_type": "error",
          "ename": "TypeError",
          "evalue": "ignored",
          "traceback": [
            "\u001b[0;31m---------------------------------------------------------------------------\u001b[0m",
            "\u001b[0;31mTypeError\u001b[0m                                 Traceback (most recent call last)",
            "\u001b[0;32m<ipython-input-115-2cc5143893f6>\u001b[0m in \u001b[0;36m<cell line: 1>\u001b[0;34m()\u001b[0m\n\u001b[0;32m----> 1\u001b[0;31m \u001b[0mAtm\u001b[0m\u001b[0;34m.\u001b[0m\u001b[0mget_counter\u001b[0m\u001b[0;34m(\u001b[0m\u001b[0;34m)\u001b[0m\u001b[0;34m\u001b[0m\u001b[0;34m\u001b[0m\u001b[0m\n\u001b[0m",
            "\u001b[0;31mTypeError\u001b[0m: Atm.get_counter() missing 1 required positional argument: 'self'"
          ]
        }
      ]
    },
    {
      "cell_type": "code",
      "source": [
        "class Atm:\n",
        "\n",
        "  ## static varaibles always created outside constructor \n",
        "  ## instance variable inside class\n",
        "\n",
        "  __counter = 1\n",
        "\n",
        "  def __init__(self):\n",
        "    self.__pin = ''\n",
        "    self.__balance = 0 \n",
        "    self.sno = Atm.__counter  # classname.varaiblename (static varaible)\n",
        "    Atm.__counter = Atm.__counter + 1 ## not self as we are not access object \n",
        "\n",
        "    print(id(self))\n",
        "\n",
        "    self.menu()\n",
        "  \n",
        "\n",
        "  @staticmethod\n",
        "  def get_counter():  # static method don`t need seld\n",
        "    return Atm.__counter\n",
        "  \n",
        "  @staticmethod\n",
        "  def set_counter(new_val):\n",
        "    if( type(new_val) == int):\n",
        "      Atm.__counter = new_val\n",
        "    else:\n",
        "      print(\" wrong datatype\")\n",
        "\n",
        "  \n",
        "  def menu(self):\n",
        "    user_input = input(\"\"\"\n",
        "    \n",
        "    Choose one option\n",
        "    1. Set PIN\n",
        "    2. Deposit \n",
        "    3. Withdraw\n",
        "    4. Check Balance\n",
        "    5. Exit\n",
        "    \n",
        "    \"\"\")\n",
        "\n",
        "    if user_input == '1':\n",
        "      self.set_pin()\n",
        "    elif user_input == '2':\n",
        "      self.deposit()\n",
        "    elif user_input == '3':\n",
        "      self.Withdraw()\n",
        "    elif user_input == '4':\n",
        "      self.check_balance()\n",
        "    else:\n",
        "      print(\"exit\")\n",
        "    \n",
        "\n",
        "  def set_pin(self):\n",
        "    pin_user = input(\" Enter Your Pin \")\n",
        "    self.__pin = pin_user\n",
        "    print(\"Pin Set Successfully\")\n",
        "    self.menu()\n",
        "\n",
        "  def check_pin(self):\n",
        "    temp = input(\" Enter Your Pin \")\n",
        "    if(self.__pin == temp):\n",
        "      print(\"Valid PIN\")\n",
        "      return True\n",
        "    else:\n",
        "      print(\"Invalid PIN\")\n",
        "      return False\n",
        "\n",
        "  def deposit(self):\n",
        "    \n",
        "    if (self.check_pin()):\n",
        "      deposit_val = int(input(\"how much do you want to deposit\"))\n",
        "      self.__balance = self.__balance + deposit_val\n",
        "      print(\"Amount Deposited successfully\")\n",
        "\n",
        "    self.menu()\n",
        "\n",
        "  def Withdraw(self):\n",
        "\n",
        "    if (self.check_pin()):\n",
        "      withdrawal_Val = int(input(\"how much do you want to withdraw\"))\n",
        "      if(self.__balance >= withdrawal_Val):\n",
        "        self.__balance = self.__balance - withdrawal_Val\n",
        "        print(\"Amount withdrawn successfully\")\n",
        "      else:\n",
        "        print(\"Insufficient Balance\")\n",
        "      \n",
        "    self.menu()\n",
        "\n",
        "\n",
        "\n",
        "  def check_balance(self):\n",
        "    if(self.check_pin()):\n",
        "      print(f\"The balance is {self.__balance} \")\n",
        "    \n",
        "    self.menu()\n",
        "\n"
      ],
      "metadata": {
        "id": "OLT1NsdAkRT7"
      },
      "execution_count": 121,
      "outputs": []
    },
    {
      "cell_type": "code",
      "source": [
        "## methods dealing with static variables are called static methods \n",
        "#3 and don1t require object i.e self __> static method \n",
        "\n",
        "## write above them @staticmethod"
      ],
      "metadata": {
        "id": "D_JI_ub7ko03"
      },
      "execution_count": 118,
      "outputs": []
    },
    {
      "cell_type": "code",
      "source": [
        "Atm.get_counter()"
      ],
      "metadata": {
        "colab": {
          "base_uri": "https://localhost:8080/"
        },
        "id": "1H25ZNV1k0zj",
        "outputId": "6ced3352-73d7-469d-96cb-3d3d3b84e010"
      },
      "execution_count": 122,
      "outputs": [
        {
          "output_type": "execute_result",
          "data": {
            "text/plain": [
              "1"
            ]
          },
          "metadata": {},
          "execution_count": 122
        }
      ]
    },
    {
      "cell_type": "code",
      "source": [
        "Atm.set_counter(5)"
      ],
      "metadata": {
        "id": "plzAzLy0lDGS"
      },
      "execution_count": 123,
      "outputs": []
    },
    {
      "cell_type": "code",
      "source": [
        "Atm.get_counter()"
      ],
      "metadata": {
        "colab": {
          "base_uri": "https://localhost:8080/"
        },
        "id": "j285GPSJlH8y",
        "outputId": "4e93d416-ec72-4da9-bd6a-b13a9a977254"
      },
      "execution_count": 124,
      "outputs": [
        {
          "output_type": "execute_result",
          "data": {
            "text/plain": [
              "5"
            ]
          },
          "metadata": {},
          "execution_count": 124
        }
      ]
    }
  ]
}