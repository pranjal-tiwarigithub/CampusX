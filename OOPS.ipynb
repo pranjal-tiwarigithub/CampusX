{
  "nbformat": 4,
  "nbformat_minor": 0,
  "metadata": {
    "colab": {
      "provenance": [],
      "authorship_tag": "ABX9TyOE2nsC2yeisVP4Ln1nJfch",
      "include_colab_link": true
    },
    "kernelspec": {
      "name": "python3",
      "display_name": "Python 3"
    },
    "language_info": {
      "name": "python"
    }
  },
  "cells": [
    {
      "cell_type": "markdown",
      "metadata": {
        "id": "view-in-github",
        "colab_type": "text"
      },
      "source": [
        "<a href=\"https://colab.research.google.com/github/pranjal-tiwarigithub/CampusX/blob/main/OOPS.ipynb\" target=\"_parent\"><img src=\"https://colab.research.google.com/assets/colab-badge.svg\" alt=\"Open In Colab\"/></a>"
      ]
    },
    {
      "cell_type": "code",
      "execution_count": 10,
      "metadata": {
        "id": "smcHSAoz1w2D"
      },
      "outputs": [],
      "source": [
        "class Atm:\n",
        "\n",
        "  def __init__(self):\n",
        "    self.pin = ''\n",
        "    self.balance = 0 \n",
        "\n",
        "    print(id(self))\n",
        "\n",
        "    self.menu()\n",
        "  \n",
        "  def menu(self):\n",
        "    user_input = input(\"\"\"\n",
        "    \n",
        "    Choose one option\n",
        "    1. Set PIN\n",
        "    2. Deposit \n",
        "    3. Withdraw\n",
        "    4. Check Balance\n",
        "    5. Exit\n",
        "    \n",
        "    \"\"\")\n",
        "\n",
        "    if user_input == '1':\n",
        "      self.set_pin()\n",
        "    elif user_input == '2':\n",
        "      self.deposit()\n",
        "    elif user_input == '3':\n",
        "      self.Withdraw()\n",
        "    elif user_input == '4':\n",
        "      self.check_balance()\n",
        "    else:\n",
        "      print(\"exit\")\n",
        "    \n",
        "\n",
        "  def set_pin(self):\n",
        "    pin_user = input(\" Enter Your Pin \")\n",
        "    self.pin = pin_user\n",
        "    print(\"Pin Set Successfully\")\n",
        "    self.menu()\n",
        "\n",
        "  def check_pin(self):\n",
        "    temp = input(\" Enter Your Pin \")\n",
        "    if(self.pin == temp):\n",
        "      print(\"Valid PIN\")\n",
        "      return True\n",
        "    else:\n",
        "      print(\"Invalid PIN\")\n",
        "      return False\n",
        "\n",
        "  def deposit(self):\n",
        "    \n",
        "    if (self.check_pin()):\n",
        "      deposit_val = int(input(\"how much do you want to deposit\"))\n",
        "      self.balance = self.balance + deposit_val\n",
        "      print(\"Amount Deposited successfully\")\n",
        "\n",
        "    self.menu()\n",
        "\n",
        "  def Withdraw(self):\n",
        "\n",
        "    if (self.check_pin()):\n",
        "      withdrawal_Val = int(input(\"how much do you want to withdraw\"))\n",
        "      if(self.balance >= withdrawal_Val):\n",
        "        self.balance = self.balance - withdrawal_Val\n",
        "        print(\"Amount withdrawn successfully\")\n",
        "      else:\n",
        "        print(\"Insufficient Balance\")\n",
        "      \n",
        "    self.menu()\n",
        "\n",
        "\n",
        "\n",
        "  def check_balance(self):\n",
        "    if(self.check_pin()):\n",
        "      print(f\"The balance is {self.balance} \")\n",
        "    \n",
        "    self.menu()\n",
        "\n"
      ]
    },
    {
      "cell_type": "code",
      "source": [
        "sbi = Atm()"
      ],
      "metadata": {
        "id": "3zXM77uD5soQ"
      },
      "execution_count": null,
      "outputs": []
    },
    {
      "cell_type": "code",
      "source": [
        "id(sbi)"
      ],
      "metadata": {
        "colab": {
          "base_uri": "https://localhost:8080/"
        },
        "id": "Wb34JoR8_5K-",
        "outputId": "c5e82691-0abf-4084-ade8-91afb415dc4e"
      },
      "execution_count": 8,
      "outputs": [
        {
          "output_type": "execute_result",
          "data": {
            "text/plain": [
              "140353425864304"
            ]
          },
          "metadata": {},
          "execution_count": 8
        }
      ]
    },
    {
      "cell_type": "code",
      "source": [],
      "metadata": {
        "id": "lKyxe7L-_8Mx"
      },
      "execution_count": null,
      "outputs": []
    }
  ]
}