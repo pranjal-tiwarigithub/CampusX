{
  "nbformat": 4,
  "nbformat_minor": 0,
  "metadata": {
    "colab": {
      "provenance": [],
      "authorship_tag": "ABX9TyN7BM0x0MGm5FsIoCrKNb/U",
      "include_colab_link": true
    },
    "kernelspec": {
      "name": "python3",
      "display_name": "Python 3"
    },
    "language_info": {
      "name": "python"
    }
  },
  "cells": [
    {
      "cell_type": "markdown",
      "metadata": {
        "id": "view-in-github",
        "colab_type": "text"
      },
      "source": [
        "<a href=\"https://colab.research.google.com/github/pranjal-tiwarigithub/CampusX/blob/main/OOPS_2.ipynb\" target=\"_parent\"><img src=\"https://colab.research.google.com/assets/colab-badge.svg\" alt=\"Open In Colab\"/></a>"
      ]
    },
    {
      "cell_type": "markdown",
      "source": [
        "aggregation "
      ],
      "metadata": {
        "id": "HzI_NwrI85AL"
      }
    },
    {
      "cell_type": "code",
      "execution_count": 1,
      "metadata": {
        "id": "sxKSyI64lcM_"
      },
      "outputs": [],
      "source": [
        "class Customer:\n",
        "\n",
        "  def __init__(self , name , gender, address):\n",
        "    self.name = name\n",
        "    self.gender = gender\n",
        "    self.address = address\n",
        "\n",
        "  def edit_profile(self  , new_name, new_city , new_pin , new_state  ): \n",
        "\n",
        "    self.name = new_name\n",
        "    self.address.change_address(new_city , new_pin , new_state)\n",
        "\n",
        "class Address:\n",
        "\n",
        "  def __init__(self,city,pincode,state):\n",
        "\n",
        "    self.city = city\n",
        "    self.pincode = pincode\n",
        "    self.state = state\n",
        "  \n",
        "  def change_address(self , new_city , new_pin , new_state):\n",
        "\n",
        "    self.city = new_city\n",
        "    self.pincode = new_pin\n",
        "    self.state = new_state\n"
      ]
    },
    {
      "cell_type": "code",
      "source": [
        "add =Address(\"Mumbai\",\"410298\",\"MB\")\n",
        "cust = Customer(\"pranjal\", \"male\",add)\n",
        "\n",
        "print(cust.address)"
      ],
      "metadata": {
        "colab": {
          "base_uri": "https://localhost:8080/"
        },
        "id": "OlqGSfVv6x4V",
        "outputId": "2b3dc2db-dbf6-441a-8ef7-263bf0548afe"
      },
      "execution_count": 2,
      "outputs": [
        {
          "output_type": "stream",
          "name": "stdout",
          "text": [
            "<__main__.Address object at 0x7fbddc81fd30>\n"
          ]
        }
      ]
    },
    {
      "cell_type": "code",
      "source": [
        "\n",
        "print(cust.address.city)"
      ],
      "metadata": {
        "colab": {
          "base_uri": "https://localhost:8080/"
        },
        "id": "XOaoRtmW7GJP",
        "outputId": "834858ac-f0eb-45f9-95c6-3eca44e4d9e4"
      },
      "execution_count": 3,
      "outputs": [
        {
          "output_type": "stream",
          "name": "stdout",
          "text": [
            "Mumbai\n"
          ]
        }
      ]
    },
    {
      "cell_type": "code",
      "source": [
        "\n",
        "print(cust.address.pincode)"
      ],
      "metadata": {
        "colab": {
          "base_uri": "https://localhost:8080/"
        },
        "id": "RjTEcuxh7Ibj",
        "outputId": "be7add5d-0a42-4802-a12b-2de33dac5c7e"
      },
      "execution_count": 5,
      "outputs": [
        {
          "output_type": "stream",
          "name": "stdout",
          "text": [
            "410298\n"
          ]
        }
      ]
    },
    {
      "cell_type": "code",
      "source": [
        "cust.edit_profile(\"someone\" , \"delhi\" ,  263748 , \"DH\")"
      ],
      "metadata": {
        "id": "kZU2bMcR7Nbb"
      },
      "execution_count": 6,
      "outputs": []
    },
    {
      "cell_type": "code",
      "source": [
        "cust.address.city"
      ],
      "metadata": {
        "colab": {
          "base_uri": "https://localhost:8080/",
          "height": 36
        },
        "id": "9iOLR0DZ8yE_",
        "outputId": "02d1fb44-4a30-4662-8ece-6b3e275111e6"
      },
      "execution_count": 7,
      "outputs": [
        {
          "output_type": "execute_result",
          "data": {
            "text/plain": [
              "'delhi'"
            ],
            "application/vnd.google.colaboratory.intrinsic+json": {
              "type": "string"
            }
          },
          "metadata": {},
          "execution_count": 7
        }
      ]
    }
  ]
}