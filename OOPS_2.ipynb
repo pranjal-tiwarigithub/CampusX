{
  "nbformat": 4,
  "nbformat_minor": 0,
  "metadata": {
    "colab": {
      "provenance": [],
      "authorship_tag": "ABX9TyOeJCKcsfIRcks2edOGK7yN",
      "include_colab_link": true
    },
    "kernelspec": {
      "name": "python3",
      "display_name": "Python 3"
    },
    "language_info": {
      "name": "python"
    }
  },
  "cells": [
    {
      "cell_type": "markdown",
      "metadata": {
        "id": "view-in-github",
        "colab_type": "text"
      },
      "source": [
        "<a href=\"https://colab.research.google.com/github/pranjal-tiwarigithub/CampusX/blob/main/OOPS_2.ipynb\" target=\"_parent\"><img src=\"https://colab.research.google.com/assets/colab-badge.svg\" alt=\"Open In Colab\"/></a>"
      ]
    },
    {
      "cell_type": "markdown",
      "source": [
        "aggregation "
      ],
      "metadata": {
        "id": "HzI_NwrI85AL"
      }
    },
    {
      "cell_type": "code",
      "execution_count": null,
      "metadata": {
        "id": "sxKSyI64lcM_"
      },
      "outputs": [],
      "source": [
        "class Customer:\n",
        "\n",
        "  def __init__(self , name , gender, address):\n",
        "    self.name = name\n",
        "    self.gender = gender\n",
        "    self.address = address\n",
        "\n",
        "  def edit_profile(self  , new_name, new_city , new_pin , new_state  ): \n",
        "\n",
        "    self.name = new_name\n",
        "    print(id(self.address))\n",
        "    self.address.change_address(new_city , new_pin , new_state)\n",
        "\n",
        "class Address:\n",
        "\n",
        "  def __init__(self,city,pincode,state):\n",
        "\n",
        "    self.city = city\n",
        "    self.pincode = pincode\n",
        "    self.state = state\n",
        "  \n",
        "  def change_address(self , new_city , new_pin , new_state):\n",
        "\n",
        "    print(id(self))\n",
        "\n",
        "    self.city = new_city\n",
        "    self.pincode = new_pin\n",
        "    self.state = new_state\n"
      ]
    },
    {
      "cell_type": "code",
      "source": [
        "add =Address(\"Mumbai\",\"410298\",\"MB\")\n",
        "cust = Customer(\"pranjal\", \"male\",add)\n",
        "\n",
        "print(cust.address)"
      ],
      "metadata": {
        "colab": {
          "base_uri": "https://localhost:8080/"
        },
        "id": "OlqGSfVv6x4V",
        "outputId": "039a88db-f943-48b3-f945-c8068eb2d376"
      },
      "execution_count": null,
      "outputs": [
        {
          "output_type": "stream",
          "name": "stdout",
          "text": [
            "<__main__.Address object at 0x7fbc4147bd30>\n"
          ]
        }
      ]
    },
    {
      "cell_type": "code",
      "source": [
        "\n",
        "print(cust.address.city)"
      ],
      "metadata": {
        "colab": {
          "base_uri": "https://localhost:8080/"
        },
        "id": "XOaoRtmW7GJP",
        "outputId": "9613812a-dab7-4e04-da7e-af4de8fc55dd"
      },
      "execution_count": null,
      "outputs": [
        {
          "output_type": "stream",
          "name": "stdout",
          "text": [
            "Mumbai\n"
          ]
        }
      ]
    },
    {
      "cell_type": "code",
      "source": [
        "\n",
        "print(cust.address.pincode)"
      ],
      "metadata": {
        "colab": {
          "base_uri": "https://localhost:8080/"
        },
        "id": "RjTEcuxh7Ibj",
        "outputId": "fd7fbe27-d37c-412e-adfc-2ad5c42c715d"
      },
      "execution_count": null,
      "outputs": [
        {
          "output_type": "stream",
          "name": "stdout",
          "text": [
            "410298\n"
          ]
        }
      ]
    },
    {
      "cell_type": "code",
      "source": [
        "cust.edit_profile(\"someone\" , \"delhi\" ,  263748 , \"DH\")"
      ],
      "metadata": {
        "id": "kZU2bMcR7Nbb",
        "colab": {
          "base_uri": "https://localhost:8080/"
        },
        "outputId": "2699fd4e-79f2-4a38-8f33-6b89b22293c3"
      },
      "execution_count": null,
      "outputs": [
        {
          "output_type": "stream",
          "name": "stdout",
          "text": [
            "140453425046208\n",
            "140453425046208\n"
          ]
        }
      ]
    },
    {
      "cell_type": "code",
      "source": [
        "cust.address.city"
      ],
      "metadata": {
        "colab": {
          "base_uri": "https://localhost:8080/",
          "height": 36
        },
        "id": "9iOLR0DZ8yE_",
        "outputId": "54f18840-7829-429f-d9d2-e43e73173210"
      },
      "execution_count": null,
      "outputs": [
        {
          "output_type": "execute_result",
          "data": {
            "text/plain": [
              "'delhi'"
            ],
            "application/vnd.google.colaboratory.intrinsic+json": {
              "type": "string"
            }
          },
          "metadata": {},
          "execution_count": 19
        }
      ]
    },
    {
      "cell_type": "markdown",
      "source": [
        "# inheritance"
      ],
      "metadata": {
        "id": "UJAUvzYize0d"
      }
    },
    {
      "cell_type": "code",
      "source": [
        "class User:\n",
        "\n",
        "  def login(self):\n",
        "\n",
        "    print(\"login\")\n",
        "  \n",
        "  def register(self):\n",
        "\n",
        "    print(\"Register\")\n",
        "\n",
        "\n",
        "class Student(User):  ### student class is sub class of user \n",
        "\n",
        "  def enroll(self):\n",
        "    print('Enroll')\n",
        "  \n",
        "  def review(self):\n",
        "    print(\"Review\")"
      ],
      "metadata": {
        "id": "UhswqEWNtqTA"
      },
      "execution_count": null,
      "outputs": []
    },
    {
      "cell_type": "code",
      "source": [
        "stu1 = Student()"
      ],
      "metadata": {
        "id": "Or1z9wCY2Up0"
      },
      "execution_count": null,
      "outputs": []
    },
    {
      "cell_type": "code",
      "source": [
        "stu1.login()"
      ],
      "metadata": {
        "colab": {
          "base_uri": "https://localhost:8080/"
        },
        "id": "bAataD4x2Wow",
        "outputId": "c3765b4b-3efd-4bda-e321-f028c2e3c286"
      },
      "execution_count": null,
      "outputs": [
        {
          "output_type": "stream",
          "name": "stdout",
          "text": [
            "login\n"
          ]
        }
      ]
    },
    {
      "cell_type": "code",
      "source": [
        "stu1.enroll()"
      ],
      "metadata": {
        "colab": {
          "base_uri": "https://localhost:8080/"
        },
        "id": "VaZHwP6G2cLa",
        "outputId": "99a59a75-1753-4ddc-b534-bbae4c27940e"
      },
      "execution_count": null,
      "outputs": [
        {
          "output_type": "stream",
          "name": "stdout",
          "text": [
            "Enroll\n"
          ]
        }
      ]
    },
    {
      "cell_type": "code",
      "source": [
        "## child has inherited from parent\n",
        "## reverse is not true"
      ],
      "metadata": {
        "id": "vWdYX-Sz2faW"
      },
      "execution_count": null,
      "outputs": []
    },
    {
      "cell_type": "code",
      "source": [
        "## eg U = User()\n",
        "## U.eroll()"
      ],
      "metadata": {
        "id": "MT_MnBwX2lUB"
      },
      "execution_count": null,
      "outputs": []
    },
    {
      "cell_type": "code",
      "source": [
        "class Phone:\n",
        "\n",
        "  def __init__(self,price,brand,camera):\n",
        "    print(\" inside phone constructor\")\n",
        "    self.price = price\n",
        "    self.brand =brand\n",
        "    self.camera = camera\n",
        "\n",
        "class SmartPhone(Phone):\n",
        "    pass"
      ],
      "metadata": {
        "id": "sAKwNPBJ2vNQ"
      },
      "execution_count": null,
      "outputs": []
    },
    {
      "cell_type": "code",
      "source": [
        "S1 = SmartPhone(123 , \"a\" , 64 )"
      ],
      "metadata": {
        "colab": {
          "base_uri": "https://localhost:8080/"
        },
        "id": "VzwTIY4gYj2v",
        "outputId": "496327a2-371e-4219-b02d-fd840ad1256b"
      },
      "execution_count": null,
      "outputs": [
        {
          "output_type": "stream",
          "name": "stdout",
          "text": [
            " inside phone constructor\n"
          ]
        }
      ]
    },
    {
      "cell_type": "code",
      "source": [
        "class Phone:\n",
        "\n",
        "  def __init__(self,price,brand,camera):\n",
        "    print(\" inside phone constructor\")\n",
        "    self.price = price\n",
        "    self.__brand =brand\n",
        "    self.camera = camera\n",
        "\n",
        "class SmartPhone(Phone):\n",
        "    pass\n",
        "\n",
        "S1 = SmartPhone(123 , \"a\" , 64 )\n",
        "#print(S1.brand) or print(S1.__brand) #'SmartPhone' object has no attribute 'brand'\n"
      ],
      "metadata": {
        "colab": {
          "base_uri": "https://localhost:8080/"
        },
        "id": "wI8c_mIcZUEM",
        "outputId": "5296897c-9911-4a15-d417-6508889e237d"
      },
      "execution_count": null,
      "outputs": [
        {
          "output_type": "stream",
          "name": "stdout",
          "text": [
            " inside phone constructor\n"
          ]
        }
      ]
    },
    {
      "cell_type": "code",
      "source": [
        "class Phone:\n",
        "\n",
        "  def __init__(self,price,brand,camera):\n",
        "    print(\" inside phone constructor\")\n",
        "    self.price = price\n",
        "    self.__brand =brand\n",
        "    self.camera = camera\n",
        "  \n",
        "  def buy(self):\n",
        "    print(\"Buying a Phone\")\n",
        "\n",
        "  def return_phone(self):\n",
        "    print(\"return a phone\")\n",
        "\n",
        "class SmartPhone(Phone):\n",
        "\n",
        "  def buy(self):\n",
        "    print(\"buying a smartphone\")"
      ],
      "metadata": {
        "id": "Yf3HyzH6ZsHN"
      },
      "execution_count": 1,
      "outputs": []
    },
    {
      "cell_type": "code",
      "source": [
        "S1 = SmartPhone(123 , \"a\" , 64 )\n",
        "S1.buy()  ## smartphone wala excute hoga"
      ],
      "metadata": {
        "colab": {
          "base_uri": "https://localhost:8080/"
        },
        "id": "cw1MCswkaLZC",
        "outputId": "c10d10e6-4c72-4889-f996-845f7ab3a367"
      },
      "execution_count": 2,
      "outputs": [
        {
          "output_type": "stream",
          "name": "stdout",
          "text": [
            " inside phone constructor\n",
            "buying a smartphone\n"
          ]
        }
      ]
    },
    {
      "cell_type": "code",
      "source": [
        "class parent:\n",
        "\n",
        "  def __init__(self,num):\n",
        "    self.__num = num\n",
        "\n",
        "  def  get_num(self):\n",
        "    return self.__num\n",
        "  \n",
        "\n",
        "class Child(parent):\n",
        "\n",
        "  def show(self):\n",
        "    print(\"This is a child class\")\n",
        "  \n",
        "son = Child(100)\n",
        "print(son.get_num()) \n",
        "son.show()\n"
      ],
      "metadata": {
        "colab": {
          "base_uri": "https://localhost:8080/"
        },
        "id": "lmSuuMsX8hNw",
        "outputId": "e0c7c565-860b-4193-afb8-c360dc957703"
      },
      "execution_count": 3,
      "outputs": [
        {
          "output_type": "stream",
          "name": "stdout",
          "text": [
            "100\n",
            "This is a child class\n"
          ]
        }
      ]
    },
    {
      "cell_type": "code",
      "source": [
        "class parent:\n",
        "\n",
        "  def __init__(self,num):\n",
        "    self.__num = num\n",
        "\n",
        "  def  get_num(self):\n",
        "    return self.__num\n",
        "  \n",
        "\n",
        "class Child(parent):\n",
        "\n",
        "  def __init__(self,val,num): ## only this will be called \n",
        "    self.__val = val\n",
        "\n",
        "  def get_val(self):\n",
        "    return self.__val\n",
        "  \n",
        "son = Child(100 ,10)\n",
        "print(\"Parent Nums\",son.get_num())  ### this will be called but num not defined  beacuse constructor never intialized it \n",
        "print(\"Child val\", son.get_val())\n"
      ],
      "metadata": {
        "id": "jBDUyf2r9UyC"
      },
      "execution_count": null,
      "outputs": []
    },
    {
      "cell_type": "code",
      "source": [
        "class A:\n",
        "\n",
        "  def __init__(self):\n",
        "    self.var1 = 100\n",
        "  \n",
        "  def display(self , var1):\n",
        "    print(var1)\n",
        "    print(id(var1))\n",
        "    print(self.var1)\n",
        "    print(id(self.var1))\n",
        "    print(\"Class A:\" , self.var1)\n",
        "  \n",
        "class B(A):\n",
        "\n",
        "  def display2(self,var1):\n",
        "    print(\"class B: \", self.var1)\n",
        "\n",
        "obj = B()\n",
        "obj.display(200)"
      ],
      "metadata": {
        "colab": {
          "base_uri": "https://localhost:8080/"
        },
        "id": "P-oIvG3f_DxL",
        "outputId": "5914173c-9005-4c99-93cf-40fe9af4a3a6"
      },
      "execution_count": 8,
      "outputs": [
        {
          "output_type": "stream",
          "name": "stdout",
          "text": [
            "200\n",
            "140393970342352\n",
            "100\n",
            "140393970339152\n",
            "Class A: 100\n"
          ]
        }
      ]
    },
    {
      "cell_type": "code",
      "source": [
        "class Phone:\n",
        "\n",
        "  def __init__(self,price,brand,camera):\n",
        "    print(\" inside phone constructor\")\n",
        "    self.price = price\n",
        "    self.__brand =brand\n",
        "    self.camera = camera\n",
        "  \n",
        "  def buy(self):\n",
        "    print(\"Buying a Phone\")\n",
        "\n",
        "  def return_phone(self):\n",
        "    print(\"return a phone\")\n",
        "\n",
        "class SmartPhone(Phone):\n",
        "\n",
        "  def buy(self):\n",
        "    print(\"buying a smartphone\")\n",
        "    super().buy()"
      ],
      "metadata": {
        "id": "kQ_GC1--Az94"
      },
      "execution_count": 9,
      "outputs": []
    },
    {
      "cell_type": "code",
      "source": [
        "S1 = SmartPhone(123 , \"a\" , 64 )\n",
        "S1.buy()  ## phone wala excute hoga\n",
        "\n",
        "## super doesn`t work outside a class error \n",
        " "
      ],
      "metadata": {
        "colab": {
          "base_uri": "https://localhost:8080/"
        },
        "id": "34KSPXnrA_0x",
        "outputId": "500b3eb3-5652-4e7a-aee3-0f1918cf3d29"
      },
      "execution_count": 10,
      "outputs": [
        {
          "output_type": "stream",
          "name": "stdout",
          "text": [
            " inside phone constructor\n",
            "buying a smartphone\n",
            "Buying a Phone\n"
          ]
        }
      ]
    },
    {
      "cell_type": "code",
      "source": [
        "class Phone:\n",
        "\n",
        "  def __init__(self,price,brand,camera):\n",
        "    print(\" inside phone constructor\")\n",
        "    self.price = price\n",
        "    self.brand =brand\n",
        "    self.camera = camera\n",
        "  \n",
        "  def buy(self):\n",
        "    print(\"Buying a Phone\")\n",
        "\n",
        "  def return_phone(self):\n",
        "    print(\"return a phone\")\n",
        "\n",
        "class SmartPhone(Phone):\n",
        "  def __init__(self,price,brand,camera,os,ram):\n",
        "    super().__init__(price,brand,camera)  ## calling parent's constrcutor using super\n",
        "    self.os =os\n",
        "    self.ram = ram\n",
        "    print(\"inside smartphone constrcutor\")"
      ],
      "metadata": {
        "id": "MGTuJkwJBx_M"
      },
      "execution_count": 14,
      "outputs": []
    },
    {
      "cell_type": "code",
      "source": [
        "S1 = SmartPhone(123 , \"a\" , 64 , \"android\" , 128 )\n",
        "S1.brand"
      ],
      "metadata": {
        "colab": {
          "base_uri": "https://localhost:8080/",
          "height": 70
        },
        "id": "fcmpTgU0CYJl",
        "outputId": "8307eb26-6fbe-4150-a5d8-f017133cfd2f"
      },
      "execution_count": 15,
      "outputs": [
        {
          "output_type": "stream",
          "name": "stdout",
          "text": [
            " inside phone constructor\n",
            "inside smartphone constrcutor\n"
          ]
        },
        {
          "output_type": "execute_result",
          "data": {
            "text/plain": [
              "'a'"
            ],
            "application/vnd.google.colaboratory.intrinsic+json": {
              "type": "string"
            }
          },
          "metadata": {},
          "execution_count": 15
        }
      ]
    },
    {
      "cell_type": "code",
      "source": [
        "S1.os"
      ],
      "metadata": {
        "colab": {
          "base_uri": "https://localhost:8080/",
          "height": 36
        },
        "id": "ZDtrCRFvCega",
        "outputId": "80b5fd71-76ff-491a-c17a-96040c1d5a6c"
      },
      "execution_count": 16,
      "outputs": [
        {
          "output_type": "execute_result",
          "data": {
            "text/plain": [
              "'android'"
            ],
            "application/vnd.google.colaboratory.intrinsic+json": {
              "type": "string"
            }
          },
          "metadata": {},
          "execution_count": 16
        }
      ]
    },
    {
      "cell_type": "code",
      "source": [],
      "metadata": {
        "id": "WTG1tiGtCnpM"
      },
      "execution_count": null,
      "outputs": []
    }
  ]
}