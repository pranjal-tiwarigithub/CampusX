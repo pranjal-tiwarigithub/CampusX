{
  "nbformat": 4,
  "nbformat_minor": 0,
  "metadata": {
    "colab": {
      "provenance": [],
      "authorship_tag": "ABX9TyNaZD2MhQzV0MvTsVqo+dgK",
      "include_colab_link": true
    },
    "kernelspec": {
      "name": "python3",
      "display_name": "Python 3"
    },
    "language_info": {
      "name": "python"
    }
  },
  "cells": [
    {
      "cell_type": "markdown",
      "metadata": {
        "id": "view-in-github",
        "colab_type": "text"
      },
      "source": [
        "<a href=\"https://colab.research.google.com/github/pranjal-tiwarigithub/CampusX/blob/main/LinkedList_2.ipynb\" target=\"_parent\"><img src=\"https://colab.research.google.com/assets/colab-badge.svg\" alt=\"Open In Colab\"/></a>"
      ]
    },
    {
      "cell_type": "code",
      "execution_count": 1,
      "metadata": {
        "id": "Navo51X1dqTK"
      },
      "outputs": [],
      "source": [
        "class Node:\n",
        "\n",
        "  def __init__(self,data):\n",
        "    self.data = data\n",
        "    self.next = None"
      ]
    },
    {
      "cell_type": "code",
      "source": [
        "class LinkedList:\n",
        "\n",
        "  def __init__(self):\n",
        "    self.head = None\n",
        "    self.n = 0\n",
        "\n",
        "  def insert_head(self,data):\n",
        "\n",
        "    new_node = Node(data)\n",
        "\n",
        "    new_node.next = self.head\n",
        "    self.head = new_node\n",
        "\n",
        "    self.n = self.n + 1\n",
        "\n",
        "  def __str__(self):\n",
        "    \n",
        "    \n",
        "    result = ''\n",
        "    curr = self.head\n",
        "    while curr != None:\n",
        "      result = result + str(curr.data) + \"->\"\n",
        "      curr = curr.next\n",
        "\n",
        "    return result[:-2]\n",
        "  \n",
        "  def replace_max(self,value):\n",
        "\n",
        "    curr = self.head\n",
        "    max_node_index = self.head  \n",
        "\n",
        "    while curr != None:\n",
        "\n",
        "      if curr.data > max_node_index.data:\n",
        "        max_node_index = curr\n",
        "      \n",
        "      curr = curr.next \n",
        "\n",
        "    max_node_index.data =  value\n",
        "  \n",
        "  def sum_odd_node(self):\n",
        "\n",
        "    curr = self.head \n",
        "    count = 0\n",
        "    sum = 0\n",
        "\n",
        "    while curr != None:\n",
        "      if count % 2 != 0:\n",
        "        sum = sum + curr.data \n",
        "      \n",
        "      curr = curr.next\n",
        "      count = count + 1\n",
        "    \n",
        "    return sum\n",
        "\n",
        "  def reverse(self):\n",
        "\n",
        "    prev_node = None\n",
        "    curr = self.head \n",
        "    #next_node = self.head \n",
        "\n",
        "\n",
        "\n",
        "    while curr != None:\n",
        "\n",
        "      next_node = curr.next \n",
        "      curr.next = prev_node\n",
        "      prev_node = curr \n",
        "      curr = next_node \n",
        "    \n",
        "\n",
        "    self.head = prev_node\n",
        "\n",
        "\n",
        "\n",
        "\n",
        "      \n",
        "\n"
      ],
      "metadata": {
        "id": "n9mhNBb9d5F8"
      },
      "execution_count": 12,
      "outputs": []
    },
    {
      "cell_type": "code",
      "source": [
        "L = LinkedList()"
      ],
      "metadata": {
        "id": "WyNOZWcWf6MK"
      },
      "execution_count": 7,
      "outputs": []
    },
    {
      "cell_type": "code",
      "source": [
        "L.insert_head(1)\n",
        "L.insert_head(2)\n",
        "L.insert_head(3)\n",
        "L.insert_head(4)"
      ],
      "metadata": {
        "id": "JqYhLE7Ef8Xp"
      },
      "execution_count": 8,
      "outputs": []
    },
    {
      "cell_type": "code",
      "source": [
        "print(L)"
      ],
      "metadata": {
        "colab": {
          "base_uri": "https://localhost:8080/"
        },
        "id": "7ryEA2wkgEVF",
        "outputId": "c224102d-2c06-49b3-95d5-bd244cab88f0"
      },
      "execution_count": 9,
      "outputs": [
        {
          "output_type": "stream",
          "name": "stdout",
          "text": [
            "4->3->2->1\n"
          ]
        }
      ]
    },
    {
      "cell_type": "code",
      "source": [
        "L.replace_max(19)\n",
        "print(L)"
      ],
      "metadata": {
        "colab": {
          "base_uri": "https://localhost:8080/"
        },
        "id": "PdmRVBY0hiyB",
        "outputId": "b27e74f2-8378-450a-db29-2e5267c47cc1"
      },
      "execution_count": null,
      "outputs": [
        {
          "output_type": "stream",
          "name": "stdout",
          "text": [
            "19->37->22->10->4->3->2->1\n"
          ]
        }
      ]
    },
    {
      "cell_type": "code",
      "source": [
        "### sum of odd positions --> start pos is always 1 "
      ],
      "metadata": {
        "id": "HwclI8W4hmPJ"
      },
      "execution_count": null,
      "outputs": []
    },
    {
      "cell_type": "code",
      "source": [
        "L.sum_odd_node()"
      ],
      "metadata": {
        "colab": {
          "base_uri": "https://localhost:8080/"
        },
        "id": "7XKdIVMJhzfn",
        "outputId": "cf52cc2f-9919-4410-d8c5-ac3884e9d122"
      },
      "execution_count": null,
      "outputs": [
        {
          "output_type": "execute_result",
          "data": {
            "text/plain": [
              "51"
            ]
          },
          "metadata": {},
          "execution_count": 30
        }
      ]
    },
    {
      "cell_type": "code",
      "source": [
        "37 + 10 + 3 + 1"
      ],
      "metadata": {
        "colab": {
          "base_uri": "https://localhost:8080/"
        },
        "id": "bn-4pyw-jtGQ",
        "outputId": "0a3d43ab-10b5-4ffc-bbae-aa049186b8e7"
      },
      "execution_count": null,
      "outputs": [
        {
          "output_type": "execute_result",
          "data": {
            "text/plain": [
              "51"
            ]
          },
          "metadata": {},
          "execution_count": 31
        }
      ]
    },
    {
      "cell_type": "code",
      "source": [
        "### reverse a Linked List "
      ],
      "metadata": {
        "id": "cyENtHTbj5Be"
      },
      "execution_count": null,
      "outputs": []
    },
    {
      "cell_type": "code",
      "source": [
        "L.reverse()"
      ],
      "metadata": {
        "id": "OP8vnDLNqm0h"
      },
      "execution_count": 10,
      "outputs": []
    },
    {
      "cell_type": "code",
      "source": [
        "print(L)"
      ],
      "metadata": {
        "id": "mEpibKZvqy5C",
        "outputId": "b51cc7ab-71f7-48b0-9615-744a376ddf99",
        "colab": {
          "base_uri": "https://localhost:8080/"
        }
      },
      "execution_count": 11,
      "outputs": [
        {
          "output_type": "stream",
          "name": "stdout",
          "text": [
            "1->2->3->4\n"
          ]
        }
      ]
    }
  ]
}