{
  "nbformat": 4,
  "nbformat_minor": 0,
  "metadata": {
    "colab": {
      "provenance": [],
      "authorship_tag": "ABX9TyNhfS9yiQk4NH35dfjztqMV",
      "include_colab_link": true
    },
    "kernelspec": {
      "name": "python3",
      "display_name": "Python 3"
    },
    "language_info": {
      "name": "python"
    }
  },
  "cells": [
    {
      "cell_type": "markdown",
      "metadata": {
        "id": "view-in-github",
        "colab_type": "text"
      },
      "source": [
        "<a href=\"https://colab.research.google.com/github/pranjal-tiwarigithub/CampusX/blob/main/doubly_Linked_List.ipynb\" target=\"_parent\"><img src=\"https://colab.research.google.com/assets/colab-badge.svg\" alt=\"Open In Colab\"/></a>"
      ]
    },
    {
      "cell_type": "code",
      "execution_count": 68,
      "metadata": {
        "id": "_xFDh5jBJ2Gq"
      },
      "outputs": [],
      "source": [
        "class Node:\n",
        "\n",
        "  def __init__(self,data):\n",
        "\n",
        "    self.data = data\n",
        "    self.next = None\n",
        "    self.prev = None\n",
        "    \n",
        "\n"
      ]
    },
    {
      "cell_type": "code",
      "source": [
        "class LinkedList():\n",
        "\n",
        "  def __init__(self):\n",
        "\n",
        "    self.head = None\n",
        "    self.n = 0 \n",
        "\n",
        "  def insert_head(self,data):\n",
        "\n",
        "    new_node = Node(data)\n",
        "    new_node.next = self.head\n",
        "\n",
        "    if self.head != None: \n",
        "      self.head.prev = new_node\n",
        "\n",
        "    self.head = new_node\n",
        "\n",
        "    self.n = self.n + 1 \n",
        "\n",
        "  def insert_after_data(self,item,data):\n",
        "\n",
        "    new_node = Node(data)\n",
        "    curr = self.head \n",
        "\n",
        "    #print(curr.data)\n",
        "\n",
        "    while curr != None:\n",
        "\n",
        "      #print(curr.data)\n",
        "\n",
        "      if curr.data == item:\n",
        "        #print(curr.data)\n",
        "        break          ## taking case just one item in list for multiple just don`t break and continue in if \n",
        "      \n",
        "      curr = curr.next \n",
        "      \n",
        "    if curr == None:\n",
        "      return \"item not found in Linked List\"\n",
        "    \n",
        "    new_node.next = curr.next \n",
        "    new_node.prev = curr\n",
        "    curr.next.prev = new_node\n",
        "    curr.next = new_node\n",
        "    \n",
        "     \n",
        "    self.n = self.n + 1 \n",
        "\n",
        "\n",
        "  def __str__(self):\n",
        "\n",
        "    curr =self.head\n",
        "    result = ''\n",
        "\n",
        "    while curr != None:\n",
        "\n",
        "      result = result + str(curr.data) + '<->'\n",
        "      curr = curr.next\n",
        "    \n",
        "    return result[:-3]\n",
        "\n",
        "\n"
      ],
      "metadata": {
        "id": "dy_8_aYWebWt"
      },
      "execution_count": 69,
      "outputs": []
    },
    {
      "cell_type": "code",
      "source": [
        "L = LinkedList()"
      ],
      "metadata": {
        "id": "kFuZcoOKmINP"
      },
      "execution_count": 70,
      "outputs": []
    },
    {
      "cell_type": "code",
      "source": [
        "L.insert_head(1)\n",
        "L.insert_head(2)\n",
        "L.insert_head(3)\n",
        "L.insert_head(4)"
      ],
      "metadata": {
        "id": "bm304fLMmKiB"
      },
      "execution_count": 71,
      "outputs": []
    },
    {
      "cell_type": "code",
      "source": [
        "print(L)"
      ],
      "metadata": {
        "colab": {
          "base_uri": "https://localhost:8080/"
        },
        "id": "LzqrlnAToadT",
        "outputId": "6f998f51-7c06-404e-d773-67a5c9d9af52"
      },
      "execution_count": 72,
      "outputs": [
        {
          "output_type": "stream",
          "name": "stdout",
          "text": [
            "4<->3<->2<->1\n"
          ]
        }
      ]
    },
    {
      "cell_type": "code",
      "source": [
        "L.insert_after_data(2,10)"
      ],
      "metadata": {
        "id": "WqvZxPywpDCM"
      },
      "execution_count": 73,
      "outputs": []
    },
    {
      "cell_type": "code",
      "source": [
        "print(L)"
      ],
      "metadata": {
        "colab": {
          "base_uri": "https://localhost:8080/"
        },
        "id": "kqdPWgiEo1Ty",
        "outputId": "2e59c052-217b-4783-a9f3-c102048b9f99"
      },
      "execution_count": 74,
      "outputs": [
        {
          "output_type": "stream",
          "name": "stdout",
          "text": [
            "4<->3<->2<->10<->1\n"
          ]
        }
      ]
    },
    {
      "cell_type": "code",
      "source": [],
      "metadata": {
        "id": "6C_kG4N0q7UA"
      },
      "execution_count": null,
      "outputs": []
    }
  ]
}