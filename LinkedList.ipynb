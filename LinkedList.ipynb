{
  "nbformat": 4,
  "nbformat_minor": 0,
  "metadata": {
    "colab": {
      "provenance": [],
      "authorship_tag": "ABX9TyPS0j/M4Gdv9JUTT5gNWySu",
      "include_colab_link": true
    },
    "kernelspec": {
      "name": "python3",
      "display_name": "Python 3"
    },
    "language_info": {
      "name": "python"
    }
  },
  "cells": [
    {
      "cell_type": "markdown",
      "metadata": {
        "id": "view-in-github",
        "colab_type": "text"
      },
      "source": [
        "<a href=\"https://colab.research.google.com/github/pranjal-tiwarigithub/CampusX/blob/main/LinkedList.ipynb\" target=\"_parent\"><img src=\"https://colab.research.google.com/assets/colab-badge.svg\" alt=\"Open In Colab\"/></a>"
      ]
    },
    {
      "cell_type": "code",
      "execution_count": 19,
      "metadata": {
        "id": "9iCmsZ0r7u_L"
      },
      "outputs": [],
      "source": [
        "class Node:\n",
        "\n",
        "  def __init__(self,value):\n",
        "    self.data = value\n",
        "    self.next = None\n",
        "  "
      ]
    },
    {
      "cell_type": "code",
      "source": [
        "a = Node(1)\n",
        "b = Node(2)\n",
        "c = Node(3)"
      ],
      "metadata": {
        "id": "CTnowvly8GPc"
      },
      "execution_count": 20,
      "outputs": []
    },
    {
      "cell_type": "code",
      "source": [
        "print(a.data)\n",
        "print(c.data)"
      ],
      "metadata": {
        "colab": {
          "base_uri": "https://localhost:8080/"
        },
        "id": "rqgt7c5v8If3",
        "outputId": "11a4a8b1-99d5-4360-a815-03363b56d6fd"
      },
      "execution_count": 21,
      "outputs": [
        {
          "output_type": "stream",
          "name": "stdout",
          "text": [
            "1\n",
            "3\n"
          ]
        }
      ]
    },
    {
      "cell_type": "code",
      "source": [
        "b"
      ],
      "metadata": {
        "colab": {
          "base_uri": "https://localhost:8080/"
        },
        "id": "WxVk-M_y814a",
        "outputId": "65bc0383-02f4-4e32-8b29-135f90266901"
      },
      "execution_count": 29,
      "outputs": [
        {
          "output_type": "execute_result",
          "data": {
            "text/plain": [
              "<__main__.Node at 0x7f717d2e6c80>"
            ]
          },
          "metadata": {},
          "execution_count": 29
        }
      ]
    },
    {
      "cell_type": "code",
      "source": [
        "a.next = b\n",
        "b.next =  c"
      ],
      "metadata": {
        "id": "sKjRPit88KSy"
      },
      "execution_count": 23,
      "outputs": []
    },
    {
      "cell_type": "code",
      "source": [
        "id(b)"
      ],
      "metadata": {
        "colab": {
          "base_uri": "https://localhost:8080/"
        },
        "id": "mkmkWA5p87Zq",
        "outputId": "910066ee-cdad-44a5-bc32-f8a64b788a92"
      },
      "execution_count": 24,
      "outputs": [
        {
          "output_type": "execute_result",
          "data": {
            "text/plain": [
              "140125408226432"
            ]
          },
          "metadata": {},
          "execution_count": 24
        }
      ]
    },
    {
      "cell_type": "code",
      "source": [
        "print(a.next)"
      ],
      "metadata": {
        "colab": {
          "base_uri": "https://localhost:8080/"
        },
        "id": "KcKjAUOT8jnz",
        "outputId": "cd550890-a669-4e28-945d-83425863992d"
      },
      "execution_count": 25,
      "outputs": [
        {
          "output_type": "stream",
          "name": "stdout",
          "text": [
            "<__main__.Node object at 0x7f717d2e6c80>\n"
          ]
        }
      ]
    },
    {
      "cell_type": "code",
      "source": [
        "int(0x7f717d2e6c80)"
      ],
      "metadata": {
        "colab": {
          "base_uri": "https://localhost:8080/"
        },
        "id": "KXm_M-jP856l",
        "outputId": "e3bbb089-d664-4c48-c237-3aba3b2a2588"
      },
      "execution_count": 30,
      "outputs": [
        {
          "output_type": "execute_result",
          "data": {
            "text/plain": [
              "140125408226432"
            ]
          },
          "metadata": {},
          "execution_count": 30
        }
      ]
    },
    {
      "cell_type": "code",
      "source": [],
      "metadata": {
        "id": "e5RsyjWx9CBJ"
      },
      "execution_count": 27,
      "outputs": []
    },
    {
      "cell_type": "code",
      "source": [
        "print(c.next)"
      ],
      "metadata": {
        "colab": {
          "base_uri": "https://localhost:8080/"
        },
        "id": "tMJyejEZ9C5K",
        "outputId": "b1f0c846-6592-481e-d933-4d0612f6713b"
      },
      "execution_count": 28,
      "outputs": [
        {
          "output_type": "stream",
          "name": "stdout",
          "text": [
            "None\n"
          ]
        }
      ]
    },
    {
      "cell_type": "markdown",
      "source": [
        "LL "
      ],
      "metadata": {
        "id": "-9fcH8439uEh"
      }
    },
    {
      "cell_type": "code",
      "source": [
        "class Node:\n",
        "\n",
        "  def __init__(self,value):\n",
        "    self.data = value\n",
        "    self.next = None\n",
        "  "
      ],
      "metadata": {
        "id": "B9xUHM4y9P8T"
      },
      "execution_count": 39,
      "outputs": []
    },
    {
      "cell_type": "code",
      "source": [
        "class LinkedList:\n",
        "  def __init__(self):\n",
        "\n",
        "    # create empty linked list -> 0 nodes -> Head is None \n",
        "    # head == None means empty linked list \n",
        "  \n",
        "    self.head = None\n",
        "    self.n = 0 ## no of nodes\n",
        "  \n",
        "  def __len__(self):\n",
        "    return self.n \n",
        "\n",
        "  def insert_head(self,value):\n",
        "\n",
        "    ## new node \n",
        "    new_node = Node(value)\n",
        "\n",
        "    ## create connection\n",
        "    new_node.next = self.head\n",
        "\n",
        "    ## reassign head\n",
        "\n",
        "    self.head = new_node\n",
        "\n",
        "    self.n = self.n + 1\n",
        "\n",
        "  def traverse(self):\n",
        "    curr = self.head\n",
        "\n",
        "    while (curr != None):\n",
        "      print(curr.data)\n",
        "      curr = curr.next \n",
        "\n",
        "  def __str__(self):\n",
        "\n",
        "    curr = self.head\n",
        "    result = ''\n",
        "    while (curr != None):\n",
        "      result = result + str(curr.data) + \"->\"\n",
        "      curr = curr.next\n",
        "    \n",
        "    return result[:-2]\n",
        "\n",
        "  def insert_tail(self , temp):   # append func\n",
        "\n",
        "    next_node = Node(temp)\n",
        "\n",
        "    if self.head == None:\n",
        "      self.head = next_node\n",
        "      self.n = self.n + 1\n",
        "      return   ## so that coming node is not executed \n",
        "\n",
        "    \n",
        "    curr = self.head\n",
        "\n",
        "    while curr.next != None:\n",
        "      curr = curr.next \n",
        "    \n",
        "    # we are at tail\n",
        "    curr.next = next_node # new_node.next = None by default\n",
        "    self.n = self.n + 1\n",
        "\n",
        "  def insert_middle(self , target , item):\n",
        "\n",
        "    new_node = Node(item)\n",
        "\n",
        "    curr =self.head\n",
        "    while curr != None:\n",
        "      if curr.data == target:\n",
        "        break\n",
        "      curr = curr.next\n",
        "    \n",
        "    # case 1 target found \n",
        "\n",
        "    if curr != None:\n",
        "\n",
        "      new_node.next = curr.next\n",
        "      curr.next = new_node\n",
        "\n",
        "      self.n = self.n + 1\n",
        "\n",
        "    else:\n",
        "\n",
        "      return \"item not found\"\n",
        "\n",
        "\n",
        "    # case curr = None , loop over \n",
        "\n",
        "\n",
        "\n",
        "\n",
        "\n",
        "\n",
        "\n"
      ],
      "metadata": {
        "id": "msW8jV2Z9wgB"
      },
      "execution_count": 139,
      "outputs": []
    },
    {
      "cell_type": "code",
      "source": [
        "L = LinkedList()"
      ],
      "metadata": {
        "id": "9qDxvXO6-Pcj"
      },
      "execution_count": 150,
      "outputs": []
    },
    {
      "cell_type": "code",
      "source": [
        "print(L.head)"
      ],
      "metadata": {
        "colab": {
          "base_uri": "https://localhost:8080/"
        },
        "id": "z7-J83y--SVL",
        "outputId": "104d1cc9-405f-45b9-bb0d-5014b8ce9aac"
      },
      "execution_count": 151,
      "outputs": [
        {
          "output_type": "stream",
          "name": "stdout",
          "text": [
            "None\n"
          ]
        }
      ]
    },
    {
      "cell_type": "code",
      "source": [
        "len(L)"
      ],
      "metadata": {
        "colab": {
          "base_uri": "https://localhost:8080/"
        },
        "id": "Zt0K_Ry7-VsN",
        "outputId": "bf934a72-c383-44be-94a9-5c8465d5a97c"
      },
      "execution_count": 152,
      "outputs": [
        {
          "output_type": "execute_result",
          "data": {
            "text/plain": [
              "0"
            ]
          },
          "metadata": {},
          "execution_count": 152
        }
      ]
    },
    {
      "cell_type": "code",
      "source": [
        "L.insert_head(1)\n",
        "L.insert_head(2)\n",
        "L.insert_head(3)\n",
        "L.insert_head(4)\n",
        "len(L)"
      ],
      "metadata": {
        "colab": {
          "base_uri": "https://localhost:8080/"
        },
        "id": "R9l4qzr_RJoS",
        "outputId": "2c0e40ea-f93e-4780-c6f7-48ee2db5026c"
      },
      "execution_count": 153,
      "outputs": [
        {
          "output_type": "execute_result",
          "data": {
            "text/plain": [
              "4"
            ]
          },
          "metadata": {},
          "execution_count": 153
        }
      ]
    },
    {
      "cell_type": "code",
      "source": [
        "L.traverse()"
      ],
      "metadata": {
        "colab": {
          "base_uri": "https://localhost:8080/"
        },
        "id": "aXUFadlmRckl",
        "outputId": "af8d04e9-2365-405a-fdae-44d40ffe3b28"
      },
      "execution_count": 144,
      "outputs": [
        {
          "output_type": "stream",
          "name": "stdout",
          "text": [
            "4\n",
            "3\n",
            "2\n",
            "1\n"
          ]
        }
      ]
    },
    {
      "cell_type": "code",
      "source": [
        "print(L)"
      ],
      "metadata": {
        "colab": {
          "base_uri": "https://localhost:8080/"
        },
        "id": "5XmDo9ifTKMY",
        "outputId": "ecb9559d-feb1-4c13-87a4-c79a87d61cf6"
      },
      "execution_count": 145,
      "outputs": [
        {
          "output_type": "stream",
          "name": "stdout",
          "text": [
            "4->3->2->1\n"
          ]
        }
      ]
    },
    {
      "cell_type": "code",
      "source": [
        "L.insert_tail(5)\n",
        "print(L)\n",
        "len(L)"
      ],
      "metadata": {
        "colab": {
          "base_uri": "https://localhost:8080/"
        },
        "id": "Xv2VWfWcVhTr",
        "outputId": "4230c1ee-37c7-4410-8fe4-fef9ccf32d74"
      },
      "execution_count": 154,
      "outputs": [
        {
          "output_type": "stream",
          "name": "stdout",
          "text": [
            "4->3->2->1->5\n"
          ]
        },
        {
          "output_type": "execute_result",
          "data": {
            "text/plain": [
              "5"
            ]
          },
          "metadata": {},
          "execution_count": 154
        }
      ]
    },
    {
      "cell_type": "code",
      "source": [
        "L.insert_middle(20,10)"
      ],
      "metadata": {
        "colab": {
          "base_uri": "https://localhost:8080/",
          "height": 36
        },
        "id": "q3q7i5LMVmXh",
        "outputId": "0e0f1fd6-af96-4502-a0f6-0039ac2d91c5"
      },
      "execution_count": 147,
      "outputs": [
        {
          "output_type": "execute_result",
          "data": {
            "text/plain": [
              "'item not found'"
            ],
            "application/vnd.google.colaboratory.intrinsic+json": {
              "type": "string"
            }
          },
          "metadata": {},
          "execution_count": 147
        }
      ]
    },
    {
      "cell_type": "code",
      "source": [
        "L.insert_middle(2,10)\n",
        "print(L)\n",
        "len(L)"
      ],
      "metadata": {
        "colab": {
          "base_uri": "https://localhost:8080/"
        },
        "id": "rZlWxFhSdqBb",
        "outputId": "e307b656-c276-42ae-c111-127967a99460"
      },
      "execution_count": 155,
      "outputs": [
        {
          "output_type": "stream",
          "name": "stdout",
          "text": [
            "4->3->2->10->1->5\n"
          ]
        },
        {
          "output_type": "execute_result",
          "data": {
            "text/plain": [
              "5"
            ]
          },
          "metadata": {},
          "execution_count": 155
        }
      ]
    },
    {
      "cell_type": "code",
      "source": [
        "L.insert_middle(5,10)\n",
        "print(L)\n",
        "len(L)"
      ],
      "metadata": {
        "colab": {
          "base_uri": "https://localhost:8080/"
        },
        "id": "fhGSI-F4d3uM",
        "outputId": "fb9a135f-2f7f-4c17-d994-7b47cb0429ac"
      },
      "execution_count": 156,
      "outputs": [
        {
          "output_type": "stream",
          "name": "stdout",
          "text": [
            "4->3->2->10->1->5->10\n"
          ]
        },
        {
          "output_type": "execute_result",
          "data": {
            "text/plain": [
              "5"
            ]
          },
          "metadata": {},
          "execution_count": 156
        }
      ]
    }
  ]
}