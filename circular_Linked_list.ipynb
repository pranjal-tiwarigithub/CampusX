{
  "nbformat": 4,
  "nbformat_minor": 0,
  "metadata": {
    "colab": {
      "provenance": [],
      "authorship_tag": "ABX9TyP3ZzbjWkFpuB3fkTNxYp27",
      "include_colab_link": true
    },
    "kernelspec": {
      "name": "python3",
      "display_name": "Python 3"
    },
    "language_info": {
      "name": "python"
    }
  },
  "cells": [
    {
      "cell_type": "markdown",
      "metadata": {
        "id": "view-in-github",
        "colab_type": "text"
      },
      "source": [
        "<a href=\"https://colab.research.google.com/github/pranjal-tiwarigithub/CampusX/blob/main/circular_Linked_list.ipynb\" target=\"_parent\"><img src=\"https://colab.research.google.com/assets/colab-badge.svg\" alt=\"Open In Colab\"/></a>"
      ]
    },
    {
      "cell_type": "code",
      "execution_count": 8,
      "metadata": {
        "id": "icmKlrcw3Y3X"
      },
      "outputs": [],
      "source": [
        "class Node:\n",
        "  def __init__(self,data):\n",
        "    self.data = data\n",
        "    self.next = None"
      ]
    },
    {
      "cell_type": "code",
      "source": [
        "class circular_LL:\n",
        "\n",
        "  def __init__(self):\n",
        "    ### lets see by maintaining last pointing to head  \n",
        "    self.last = None\n",
        "  \n",
        "  def insert_in_front_of_list(self,data):\n",
        "\n",
        "    new_node  = Node(data)\n",
        "\n",
        "    if self.last == None:\n",
        "      self.last = new_node\n",
        "      #print(self.last.data)\n",
        "\n",
        "    elif self.last.next == None: ## of inserting 2 to 1 -> None \n",
        "      \n",
        "      self.last.next = new_node\n",
        "      new_node.next = self.last\n",
        "      self.last = new_node\n",
        "\n",
        "    else:\n",
        "      #print(self.last.data)\n",
        "      new_node.next = self.last.next \n",
        "      self.last.next = new_node\n",
        "      self.last = new_node\n",
        "      #print(self.last.data)\n",
        "      #print(self.last.next.data)\n",
        "\n",
        "    \n",
        "  def __str__(self):\n",
        "\n",
        "    result  = ''\n",
        "\n",
        "    curr = self.last.next  # head of lisr , first element\n",
        "\n",
        "    result = result + str(curr.data) + '->'\n",
        "\n",
        "    curr = curr.next\n",
        "    \n",
        "    while curr != self.last.next:\n",
        "      result = result + str(curr.data) + '->'\n",
        "      curr = curr.next \n",
        "    \n",
        "    return result + 'restart'\n",
        "    \n",
        "    \n",
        "\n"
      ],
      "metadata": {
        "id": "R3xJTAJQgJMQ"
      },
      "execution_count": 78,
      "outputs": []
    },
    {
      "cell_type": "code",
      "source": [
        "cycle = circular_LL()"
      ],
      "metadata": {
        "id": "gQ6J4e4JghVm"
      },
      "execution_count": 79,
      "outputs": []
    },
    {
      "cell_type": "code",
      "source": [
        "cycle.insert_in_front_of_list(1)\n",
        "cycle.insert_in_front_of_list(2)\n",
        "cycle.insert_in_front_of_list(3)\n",
        "cycle.insert_in_front_of_list(4)"
      ],
      "metadata": {
        "id": "NX1xN2iHkNt5"
      },
      "execution_count": 80,
      "outputs": []
    },
    {
      "cell_type": "code",
      "source": [
        "print(cycle)"
      ],
      "metadata": {
        "colab": {
          "base_uri": "https://localhost:8080/"
        },
        "id": "eyed6xAukyrY",
        "outputId": "1fb80e1d-380e-41ab-da2a-f90f3d95b655"
      },
      "execution_count": 85,
      "outputs": [
        {
          "output_type": "stream",
          "name": "stdout",
          "text": [
            "1->2->3->4->5->6->restart\n"
          ]
        }
      ]
    },
    {
      "cell_type": "code",
      "source": [
        "cycle.insert_in_front_of_list(6)"
      ],
      "metadata": {
        "id": "svco-RMXk02D"
      },
      "execution_count": 84,
      "outputs": []
    }
  ]
}