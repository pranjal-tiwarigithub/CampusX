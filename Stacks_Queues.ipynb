{
  "nbformat": 4,
  "nbformat_minor": 0,
  "metadata": {
    "colab": {
      "provenance": [],
      "authorship_tag": "ABX9TyMDqQ0CzEWHjILme5mrGzku",
      "include_colab_link": true
    },
    "kernelspec": {
      "name": "python3",
      "display_name": "Python 3"
    },
    "language_info": {
      "name": "python"
    }
  },
  "cells": [
    {
      "cell_type": "markdown",
      "metadata": {
        "id": "view-in-github",
        "colab_type": "text"
      },
      "source": [
        "<a href=\"https://colab.research.google.com/github/pranjal-tiwarigithub/CampusX/blob/main/Stacks_Queues.ipynb\" target=\"_parent\"><img src=\"https://colab.research.google.com/assets/colab-badge.svg\" alt=\"Open In Colab\"/></a>"
      ]
    },
    {
      "cell_type": "code",
      "execution_count": 1,
      "metadata": {
        "id": "HPq2NkyHN5EN"
      },
      "outputs": [],
      "source": [
        "class Node:\n",
        "  \n",
        "  def __init__(self,data):\n",
        "    self.data = data\n",
        "    self.next = None "
      ]
    },
    {
      "cell_type": "code",
      "source": [],
      "metadata": {
        "id": "oWm1jK9gOHk4"
      },
      "execution_count": null,
      "outputs": []
    }
  ]
}